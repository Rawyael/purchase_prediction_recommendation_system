{
 "cells": [
  {
   "cell_type": "markdown",
   "id": "069ea47c",
   "metadata": {},
   "source": [
    "# Imports"
   ]
  },
  {
   "cell_type": "code",
   "execution_count": 1,
   "id": "e00cf9c2",
   "metadata": {
    "scrolled": true
   },
   "outputs": [],
   "source": [
    "import pandas as pd\n",
    "import numpy as np\n",
    "import seaborn as sns\n",
    "import matplotlib.pyplot as plt\n",
    "from sklearn.feature_extraction.text import TfidfVectorizer\n",
    "from sklearn.metrics.pairwise import cosine_similarity\n",
    "#!pip install scikit-surprise"
   ]
  },
  {
   "cell_type": "code",
   "execution_count": 2,
   "id": "c1111197",
   "metadata": {},
   "outputs": [],
   "source": [
    "from surprise import SVD\n",
    "from surprise import Dataset, Reader\n",
    "from surprise.model_selection import train_test_split\n",
    "from surprise import accuracy\n",
    "from surprise.model_selection import GridSearchCV"
   ]
  },
  {
   "cell_type": "markdown",
   "id": "53898c67",
   "metadata": {},
   "source": [
    "# Sales Data"
   ]
  },
  {
   "cell_type": "markdown",
   "id": "9c7f9781",
   "metadata": {},
   "source": [
    "## Explore the data"
   ]
  },
  {
   "cell_type": "markdown",
   "id": "df171114",
   "metadata": {},
   "source": [
    "### Duplicates"
   ]
  },
  {
   "cell_type": "code",
   "execution_count": 3,
   "id": "18fd6cff",
   "metadata": {
    "scrolled": true
   },
   "outputs": [
    {
     "data": {
      "text/plain": [
       "Index(['user id', 'product id', 'Interaction type', 'Time stamp',\n",
       "       'Unnamed: 4'],\n",
       "      dtype='object')"
      ]
     },
     "execution_count": 3,
     "metadata": {},
     "output_type": "execute_result"
    }
   ],
   "source": [
    "sales_data = pd.read_csv(\"E-commerece_sales_data_2024.csv\")\n",
    "sales_data.describe()\n",
    "sales_data.head()\n",
    "sales_data.columns"
   ]
  },
  {
   "cell_type": "code",
   "execution_count": 4,
   "id": "6b7ea92e",
   "metadata": {},
   "outputs": [],
   "source": [
    "sales_data = sales_data.drop(columns=['Unnamed: 4'])"
   ]
  },
  {
   "cell_type": "code",
   "execution_count": 5,
   "id": "fa1d552a",
   "metadata": {},
   "outputs": [
    {
     "data": {
      "text/html": [
       "<div>\n",
       "<style scoped>\n",
       "    .dataframe tbody tr th:only-of-type {\n",
       "        vertical-align: middle;\n",
       "    }\n",
       "\n",
       "    .dataframe tbody tr th {\n",
       "        vertical-align: top;\n",
       "    }\n",
       "\n",
       "    .dataframe thead th {\n",
       "        text-align: right;\n",
       "    }\n",
       "</style>\n",
       "<table border=\"1\" class=\"dataframe\">\n",
       "  <thead>\n",
       "    <tr style=\"text-align: right;\">\n",
       "      <th></th>\n",
       "      <th>user id</th>\n",
       "      <th>product id</th>\n",
       "      <th>Interaction type</th>\n",
       "      <th>Time stamp</th>\n",
       "    </tr>\n",
       "  </thead>\n",
       "  <tbody>\n",
       "    <tr>\n",
       "      <th>0</th>\n",
       "      <td>1.0</td>\n",
       "      <td>4c69b61db1fc16e7013b43fc926e502d</td>\n",
       "      <td>purchase</td>\n",
       "      <td>10/10/2023 8:00</td>\n",
       "    </tr>\n",
       "    <tr>\n",
       "      <th>1</th>\n",
       "      <td>2.0</td>\n",
       "      <td>66d49bbed043f5be260fa9f7fbff5957</td>\n",
       "      <td>view</td>\n",
       "      <td>11/10/2023 8:00</td>\n",
       "    </tr>\n",
       "    <tr>\n",
       "      <th>2</th>\n",
       "      <td>3.0</td>\n",
       "      <td>2c55cae269aebf53838484b0d7dd931a</td>\n",
       "      <td>like</td>\n",
       "      <td>12/10/2023 8:00</td>\n",
       "    </tr>\n",
       "    <tr>\n",
       "      <th>3</th>\n",
       "      <td>4.0</td>\n",
       "      <td>18018b6bc416dab347b1b7db79994afa</td>\n",
       "      <td>view</td>\n",
       "      <td>13/10/2023 8:00</td>\n",
       "    </tr>\n",
       "    <tr>\n",
       "      <th>4</th>\n",
       "      <td>5.0</td>\n",
       "      <td>e04b990e95bf73bbe6a3fa09785d7cd0</td>\n",
       "      <td>like</td>\n",
       "      <td>14/10/2023 8:00</td>\n",
       "    </tr>\n",
       "  </tbody>\n",
       "</table>\n",
       "</div>"
      ],
      "text/plain": [
       "   user id                        product id Interaction type       Time stamp\n",
       "0      1.0  4c69b61db1fc16e7013b43fc926e502d         purchase  10/10/2023 8:00\n",
       "1      2.0  66d49bbed043f5be260fa9f7fbff5957             view  11/10/2023 8:00\n",
       "2      3.0  2c55cae269aebf53838484b0d7dd931a             like  12/10/2023 8:00\n",
       "3      4.0  18018b6bc416dab347b1b7db79994afa             view  13/10/2023 8:00\n",
       "4      5.0  e04b990e95bf73bbe6a3fa09785d7cd0             like  14/10/2023 8:00"
      ]
     },
     "execution_count": 5,
     "metadata": {},
     "output_type": "execute_result"
    }
   ],
   "source": [
    "sales_data.head()"
   ]
  },
  {
   "cell_type": "code",
   "execution_count": 6,
   "id": "c7dc7793",
   "metadata": {},
   "outputs": [
    {
     "data": {
      "text/plain": [
       "0       False\n",
       "1       False\n",
       "2       False\n",
       "3       False\n",
       "4       False\n",
       "        ...  \n",
       "3289     True\n",
       "3290     True\n",
       "3291     True\n",
       "3292     True\n",
       "3293     True\n",
       "Length: 3294, dtype: bool"
      ]
     },
     "execution_count": 6,
     "metadata": {},
     "output_type": "execute_result"
    }
   ],
   "source": [
    "sales_data.duplicated()"
   ]
  },
  {
   "cell_type": "code",
   "execution_count": 7,
   "id": "100eddb5",
   "metadata": {},
   "outputs": [
    {
     "data": {
      "text/plain": [
       "294"
      ]
     },
     "execution_count": 7,
     "metadata": {},
     "output_type": "execute_result"
    }
   ],
   "source": [
    "sales_data.duplicated().sum()"
   ]
  },
  {
   "cell_type": "code",
   "execution_count": 8,
   "id": "ceb61b7d",
   "metadata": {},
   "outputs": [],
   "source": [
    "sales_data = sales_data.drop_duplicates()"
   ]
  },
  {
   "cell_type": "code",
   "execution_count": 9,
   "id": "936cd257",
   "metadata": {},
   "outputs": [
    {
     "data": {
      "text/plain": [
       "3000"
      ]
     },
     "execution_count": 9,
     "metadata": {},
     "output_type": "execute_result"
    }
   ],
   "source": [
    "len(sales_data)"
   ]
  },
  {
   "cell_type": "markdown",
   "id": "88acc938",
   "metadata": {},
   "source": [
    "### Missing data"
   ]
  },
  {
   "cell_type": "markdown",
   "id": "52677c98",
   "metadata": {},
   "source": [
    "### Visualizing the data"
   ]
  },
  {
   "cell_type": "code",
   "execution_count": 10,
   "id": "1a0b03b3",
   "metadata": {},
   "outputs": [
    {
     "data": {
      "text/html": [
       "<div>\n",
       "<style scoped>\n",
       "    .dataframe tbody tr th:only-of-type {\n",
       "        vertical-align: middle;\n",
       "    }\n",
       "\n",
       "    .dataframe tbody tr th {\n",
       "        vertical-align: top;\n",
       "    }\n",
       "\n",
       "    .dataframe thead th {\n",
       "        text-align: right;\n",
       "    }\n",
       "</style>\n",
       "<table border=\"1\" class=\"dataframe\">\n",
       "  <thead>\n",
       "    <tr style=\"text-align: right;\">\n",
       "      <th></th>\n",
       "      <th>Date</th>\n",
       "      <th>Time</th>\n",
       "    </tr>\n",
       "  </thead>\n",
       "  <tbody>\n",
       "    <tr>\n",
       "      <th>0</th>\n",
       "      <td>10/10/2023</td>\n",
       "      <td>8:00</td>\n",
       "    </tr>\n",
       "    <tr>\n",
       "      <th>1</th>\n",
       "      <td>11/10/2023</td>\n",
       "      <td>8:00</td>\n",
       "    </tr>\n",
       "    <tr>\n",
       "      <th>2</th>\n",
       "      <td>12/10/2023</td>\n",
       "      <td>8:00</td>\n",
       "    </tr>\n",
       "    <tr>\n",
       "      <th>3</th>\n",
       "      <td>13/10/2023</td>\n",
       "      <td>8:00</td>\n",
       "    </tr>\n",
       "    <tr>\n",
       "      <th>4</th>\n",
       "      <td>14/10/2023</td>\n",
       "      <td>8:00</td>\n",
       "    </tr>\n",
       "    <tr>\n",
       "      <th>...</th>\n",
       "      <td>...</td>\n",
       "      <td>...</td>\n",
       "    </tr>\n",
       "    <tr>\n",
       "      <th>2995</th>\n",
       "      <td>16/12/2023</td>\n",
       "      <td>8:00</td>\n",
       "    </tr>\n",
       "    <tr>\n",
       "      <th>2996</th>\n",
       "      <td>17/12/2023</td>\n",
       "      <td>8:00</td>\n",
       "    </tr>\n",
       "    <tr>\n",
       "      <th>2997</th>\n",
       "      <td>18/12/2023</td>\n",
       "      <td>8:00</td>\n",
       "    </tr>\n",
       "    <tr>\n",
       "      <th>2998</th>\n",
       "      <td>19/12/2023</td>\n",
       "      <td>8:00</td>\n",
       "    </tr>\n",
       "    <tr>\n",
       "      <th>2999</th>\n",
       "      <td>NaN</td>\n",
       "      <td>NaN</td>\n",
       "    </tr>\n",
       "  </tbody>\n",
       "</table>\n",
       "<p>3000 rows × 2 columns</p>\n",
       "</div>"
      ],
      "text/plain": [
       "            Date  Time\n",
       "0     10/10/2023  8:00\n",
       "1     11/10/2023  8:00\n",
       "2     12/10/2023  8:00\n",
       "3     13/10/2023  8:00\n",
       "4     14/10/2023  8:00\n",
       "...          ...   ...\n",
       "2995  16/12/2023  8:00\n",
       "2996  17/12/2023  8:00\n",
       "2997  18/12/2023  8:00\n",
       "2998  19/12/2023  8:00\n",
       "2999         NaN   NaN\n",
       "\n",
       "[3000 rows x 2 columns]"
      ]
     },
     "execution_count": 10,
     "metadata": {},
     "output_type": "execute_result"
    }
   ],
   "source": [
    "sales_data[['Date', 'Time']] = sales_data['Time stamp'].str.split(' ', expand=True)\n",
    "sales_data[['Date', 'Time']]"
   ]
  },
  {
   "cell_type": "code",
   "execution_count": 11,
   "id": "d56896e2",
   "metadata": {},
   "outputs": [
    {
     "ename": "IntCastingNaNError",
     "evalue": "Cannot convert non-finite values (NA or inf) to integer",
     "output_type": "error",
     "traceback": [
      "\u001b[0;31m---------------------------------------------------------------------------\u001b[0m",
      "\u001b[0;31mIntCastingNaNError\u001b[0m                        Traceback (most recent call last)",
      "Cell \u001b[0;32mIn [11], line 1\u001b[0m\n\u001b[0;32m----> 1\u001b[0m sales_data[\u001b[38;5;124m\"\u001b[39m\u001b[38;5;124muser id\u001b[39m\u001b[38;5;124m\"\u001b[39m]\u001b[38;5;241m=\u001b[39m \u001b[43msales_data\u001b[49m\u001b[43m[\u001b[49m\u001b[38;5;124;43m\"\u001b[39;49m\u001b[38;5;124;43muser id\u001b[39;49m\u001b[38;5;124;43m\"\u001b[39;49m\u001b[43m]\u001b[49m\u001b[38;5;241;43m.\u001b[39;49m\u001b[43mround\u001b[49m\u001b[43m(\u001b[49m\u001b[43m)\u001b[49m\u001b[38;5;241;43m.\u001b[39;49m\u001b[43mastype\u001b[49m\u001b[43m(\u001b[49m\u001b[43m \u001b[49m\u001b[38;5;28;43mint\u001b[39;49m\u001b[43m)\u001b[49m\n\u001b[1;32m      2\u001b[0m sales_data\u001b[38;5;241m.\u001b[39mhead()\n",
      "File \u001b[0;32m~/.pyenv/versions/3.10.6/envs/lewagon/lib/python3.10/site-packages/pandas/core/generic.py:5912\u001b[0m, in \u001b[0;36mNDFrame.astype\u001b[0;34m(self, dtype, copy, errors)\u001b[0m\n\u001b[1;32m   5905\u001b[0m     results \u001b[38;5;241m=\u001b[39m [\n\u001b[1;32m   5906\u001b[0m         \u001b[38;5;28mself\u001b[39m\u001b[38;5;241m.\u001b[39miloc[:, i]\u001b[38;5;241m.\u001b[39mastype(dtype, copy\u001b[38;5;241m=\u001b[39mcopy)\n\u001b[1;32m   5907\u001b[0m         \u001b[38;5;28;01mfor\u001b[39;00m i \u001b[38;5;129;01min\u001b[39;00m \u001b[38;5;28mrange\u001b[39m(\u001b[38;5;28mlen\u001b[39m(\u001b[38;5;28mself\u001b[39m\u001b[38;5;241m.\u001b[39mcolumns))\n\u001b[1;32m   5908\u001b[0m     ]\n\u001b[1;32m   5910\u001b[0m \u001b[38;5;28;01melse\u001b[39;00m:\n\u001b[1;32m   5911\u001b[0m     \u001b[38;5;66;03m# else, only a single dtype is given\u001b[39;00m\n\u001b[0;32m-> 5912\u001b[0m     new_data \u001b[38;5;241m=\u001b[39m \u001b[38;5;28;43mself\u001b[39;49m\u001b[38;5;241;43m.\u001b[39;49m\u001b[43m_mgr\u001b[49m\u001b[38;5;241;43m.\u001b[39;49m\u001b[43mastype\u001b[49m\u001b[43m(\u001b[49m\u001b[43mdtype\u001b[49m\u001b[38;5;241;43m=\u001b[39;49m\u001b[43mdtype\u001b[49m\u001b[43m,\u001b[49m\u001b[43m \u001b[49m\u001b[43mcopy\u001b[49m\u001b[38;5;241;43m=\u001b[39;49m\u001b[43mcopy\u001b[49m\u001b[43m,\u001b[49m\u001b[43m \u001b[49m\u001b[43merrors\u001b[49m\u001b[38;5;241;43m=\u001b[39;49m\u001b[43merrors\u001b[49m\u001b[43m)\u001b[49m\n\u001b[1;32m   5913\u001b[0m     \u001b[38;5;28;01mreturn\u001b[39;00m \u001b[38;5;28mself\u001b[39m\u001b[38;5;241m.\u001b[39m_constructor(new_data)\u001b[38;5;241m.\u001b[39m__finalize__(\u001b[38;5;28mself\u001b[39m, method\u001b[38;5;241m=\u001b[39m\u001b[38;5;124m\"\u001b[39m\u001b[38;5;124mastype\u001b[39m\u001b[38;5;124m\"\u001b[39m)\n\u001b[1;32m   5915\u001b[0m \u001b[38;5;66;03m# GH 33113: handle empty frame or series\u001b[39;00m\n",
      "File \u001b[0;32m~/.pyenv/versions/3.10.6/envs/lewagon/lib/python3.10/site-packages/pandas/core/internals/managers.py:419\u001b[0m, in \u001b[0;36mBaseBlockManager.astype\u001b[0;34m(self, dtype, copy, errors)\u001b[0m\n\u001b[1;32m    418\u001b[0m \u001b[38;5;28;01mdef\u001b[39;00m \u001b[38;5;21mastype\u001b[39m(\u001b[38;5;28mself\u001b[39m: T, dtype, copy: \u001b[38;5;28mbool\u001b[39m \u001b[38;5;241m=\u001b[39m \u001b[38;5;28;01mFalse\u001b[39;00m, errors: \u001b[38;5;28mstr\u001b[39m \u001b[38;5;241m=\u001b[39m \u001b[38;5;124m\"\u001b[39m\u001b[38;5;124mraise\u001b[39m\u001b[38;5;124m\"\u001b[39m) \u001b[38;5;241m-\u001b[39m\u001b[38;5;241m>\u001b[39m T:\n\u001b[0;32m--> 419\u001b[0m     \u001b[38;5;28;01mreturn\u001b[39;00m \u001b[38;5;28;43mself\u001b[39;49m\u001b[38;5;241;43m.\u001b[39;49m\u001b[43mapply\u001b[49m\u001b[43m(\u001b[49m\u001b[38;5;124;43m\"\u001b[39;49m\u001b[38;5;124;43mastype\u001b[39;49m\u001b[38;5;124;43m\"\u001b[39;49m\u001b[43m,\u001b[49m\u001b[43m \u001b[49m\u001b[43mdtype\u001b[49m\u001b[38;5;241;43m=\u001b[39;49m\u001b[43mdtype\u001b[49m\u001b[43m,\u001b[49m\u001b[43m \u001b[49m\u001b[43mcopy\u001b[49m\u001b[38;5;241;43m=\u001b[39;49m\u001b[43mcopy\u001b[49m\u001b[43m,\u001b[49m\u001b[43m \u001b[49m\u001b[43merrors\u001b[49m\u001b[38;5;241;43m=\u001b[39;49m\u001b[43merrors\u001b[49m\u001b[43m)\u001b[49m\n",
      "File \u001b[0;32m~/.pyenv/versions/3.10.6/envs/lewagon/lib/python3.10/site-packages/pandas/core/internals/managers.py:304\u001b[0m, in \u001b[0;36mBaseBlockManager.apply\u001b[0;34m(self, f, align_keys, ignore_failures, **kwargs)\u001b[0m\n\u001b[1;32m    302\u001b[0m         applied \u001b[38;5;241m=\u001b[39m b\u001b[38;5;241m.\u001b[39mapply(f, \u001b[38;5;241m*\u001b[39m\u001b[38;5;241m*\u001b[39mkwargs)\n\u001b[1;32m    303\u001b[0m     \u001b[38;5;28;01melse\u001b[39;00m:\n\u001b[0;32m--> 304\u001b[0m         applied \u001b[38;5;241m=\u001b[39m \u001b[38;5;28;43mgetattr\u001b[39;49m\u001b[43m(\u001b[49m\u001b[43mb\u001b[49m\u001b[43m,\u001b[49m\u001b[43m \u001b[49m\u001b[43mf\u001b[49m\u001b[43m)\u001b[49m\u001b[43m(\u001b[49m\u001b[38;5;241;43m*\u001b[39;49m\u001b[38;5;241;43m*\u001b[39;49m\u001b[43mkwargs\u001b[49m\u001b[43m)\u001b[49m\n\u001b[1;32m    305\u001b[0m \u001b[38;5;28;01mexcept\u001b[39;00m (\u001b[38;5;167;01mTypeError\u001b[39;00m, \u001b[38;5;167;01mNotImplementedError\u001b[39;00m):\n\u001b[1;32m    306\u001b[0m     \u001b[38;5;28;01mif\u001b[39;00m \u001b[38;5;129;01mnot\u001b[39;00m ignore_failures:\n",
      "File \u001b[0;32m~/.pyenv/versions/3.10.6/envs/lewagon/lib/python3.10/site-packages/pandas/core/internals/blocks.py:580\u001b[0m, in \u001b[0;36mBlock.astype\u001b[0;34m(self, dtype, copy, errors)\u001b[0m\n\u001b[1;32m    562\u001b[0m \u001b[38;5;124;03m\"\"\"\u001b[39;00m\n\u001b[1;32m    563\u001b[0m \u001b[38;5;124;03mCoerce to the new dtype.\u001b[39;00m\n\u001b[1;32m    564\u001b[0m \n\u001b[0;32m   (...)\u001b[0m\n\u001b[1;32m    576\u001b[0m \u001b[38;5;124;03mBlock\u001b[39;00m\n\u001b[1;32m    577\u001b[0m \u001b[38;5;124;03m\"\"\"\u001b[39;00m\n\u001b[1;32m    578\u001b[0m values \u001b[38;5;241m=\u001b[39m \u001b[38;5;28mself\u001b[39m\u001b[38;5;241m.\u001b[39mvalues\n\u001b[0;32m--> 580\u001b[0m new_values \u001b[38;5;241m=\u001b[39m \u001b[43mastype_array_safe\u001b[49m\u001b[43m(\u001b[49m\u001b[43mvalues\u001b[49m\u001b[43m,\u001b[49m\u001b[43m \u001b[49m\u001b[43mdtype\u001b[49m\u001b[43m,\u001b[49m\u001b[43m \u001b[49m\u001b[43mcopy\u001b[49m\u001b[38;5;241;43m=\u001b[39;49m\u001b[43mcopy\u001b[49m\u001b[43m,\u001b[49m\u001b[43m \u001b[49m\u001b[43merrors\u001b[49m\u001b[38;5;241;43m=\u001b[39;49m\u001b[43merrors\u001b[49m\u001b[43m)\u001b[49m\n\u001b[1;32m    582\u001b[0m new_values \u001b[38;5;241m=\u001b[39m maybe_coerce_values(new_values)\n\u001b[1;32m    583\u001b[0m newb \u001b[38;5;241m=\u001b[39m \u001b[38;5;28mself\u001b[39m\u001b[38;5;241m.\u001b[39mmake_block(new_values)\n",
      "File \u001b[0;32m~/.pyenv/versions/3.10.6/envs/lewagon/lib/python3.10/site-packages/pandas/core/dtypes/cast.py:1292\u001b[0m, in \u001b[0;36mastype_array_safe\u001b[0;34m(values, dtype, copy, errors)\u001b[0m\n\u001b[1;32m   1289\u001b[0m     dtype \u001b[38;5;241m=\u001b[39m dtype\u001b[38;5;241m.\u001b[39mnumpy_dtype\n\u001b[1;32m   1291\u001b[0m \u001b[38;5;28;01mtry\u001b[39;00m:\n\u001b[0;32m-> 1292\u001b[0m     new_values \u001b[38;5;241m=\u001b[39m \u001b[43mastype_array\u001b[49m\u001b[43m(\u001b[49m\u001b[43mvalues\u001b[49m\u001b[43m,\u001b[49m\u001b[43m \u001b[49m\u001b[43mdtype\u001b[49m\u001b[43m,\u001b[49m\u001b[43m \u001b[49m\u001b[43mcopy\u001b[49m\u001b[38;5;241;43m=\u001b[39;49m\u001b[43mcopy\u001b[49m\u001b[43m)\u001b[49m\n\u001b[1;32m   1293\u001b[0m \u001b[38;5;28;01mexcept\u001b[39;00m (\u001b[38;5;167;01mValueError\u001b[39;00m, \u001b[38;5;167;01mTypeError\u001b[39;00m):\n\u001b[1;32m   1294\u001b[0m     \u001b[38;5;66;03m# e.g. astype_nansafe can fail on object-dtype of strings\u001b[39;00m\n\u001b[1;32m   1295\u001b[0m     \u001b[38;5;66;03m#  trying to convert to float\u001b[39;00m\n\u001b[1;32m   1296\u001b[0m     \u001b[38;5;28;01mif\u001b[39;00m errors \u001b[38;5;241m==\u001b[39m \u001b[38;5;124m\"\u001b[39m\u001b[38;5;124mignore\u001b[39m\u001b[38;5;124m\"\u001b[39m:\n",
      "File \u001b[0;32m~/.pyenv/versions/3.10.6/envs/lewagon/lib/python3.10/site-packages/pandas/core/dtypes/cast.py:1237\u001b[0m, in \u001b[0;36mastype_array\u001b[0;34m(values, dtype, copy)\u001b[0m\n\u001b[1;32m   1234\u001b[0m     values \u001b[38;5;241m=\u001b[39m values\u001b[38;5;241m.\u001b[39mastype(dtype, copy\u001b[38;5;241m=\u001b[39mcopy)\n\u001b[1;32m   1236\u001b[0m \u001b[38;5;28;01melse\u001b[39;00m:\n\u001b[0;32m-> 1237\u001b[0m     values \u001b[38;5;241m=\u001b[39m \u001b[43mastype_nansafe\u001b[49m\u001b[43m(\u001b[49m\u001b[43mvalues\u001b[49m\u001b[43m,\u001b[49m\u001b[43m \u001b[49m\u001b[43mdtype\u001b[49m\u001b[43m,\u001b[49m\u001b[43m \u001b[49m\u001b[43mcopy\u001b[49m\u001b[38;5;241;43m=\u001b[39;49m\u001b[43mcopy\u001b[49m\u001b[43m)\u001b[49m\n\u001b[1;32m   1239\u001b[0m \u001b[38;5;66;03m# in pandas we don't store numpy str dtypes, so convert to object\u001b[39;00m\n\u001b[1;32m   1240\u001b[0m \u001b[38;5;28;01mif\u001b[39;00m \u001b[38;5;28misinstance\u001b[39m(dtype, np\u001b[38;5;241m.\u001b[39mdtype) \u001b[38;5;129;01mand\u001b[39;00m \u001b[38;5;28missubclass\u001b[39m(values\u001b[38;5;241m.\u001b[39mdtype\u001b[38;5;241m.\u001b[39mtype, \u001b[38;5;28mstr\u001b[39m):\n",
      "File \u001b[0;32m~/.pyenv/versions/3.10.6/envs/lewagon/lib/python3.10/site-packages/pandas/core/dtypes/cast.py:1148\u001b[0m, in \u001b[0;36mastype_nansafe\u001b[0;34m(arr, dtype, copy, skipna)\u001b[0m\n\u001b[1;32m   1145\u001b[0m     \u001b[38;5;28;01mraise\u001b[39;00m \u001b[38;5;167;01mTypeError\u001b[39;00m(\u001b[38;5;124mf\u001b[39m\u001b[38;5;124m\"\u001b[39m\u001b[38;5;124mcannot astype a timedelta from [\u001b[39m\u001b[38;5;132;01m{\u001b[39;00marr\u001b[38;5;241m.\u001b[39mdtype\u001b[38;5;132;01m}\u001b[39;00m\u001b[38;5;124m] to [\u001b[39m\u001b[38;5;132;01m{\u001b[39;00mdtype\u001b[38;5;132;01m}\u001b[39;00m\u001b[38;5;124m]\u001b[39m\u001b[38;5;124m\"\u001b[39m)\n\u001b[1;32m   1147\u001b[0m \u001b[38;5;28;01melif\u001b[39;00m np\u001b[38;5;241m.\u001b[39missubdtype(arr\u001b[38;5;241m.\u001b[39mdtype, np\u001b[38;5;241m.\u001b[39mfloating) \u001b[38;5;129;01mand\u001b[39;00m np\u001b[38;5;241m.\u001b[39missubdtype(dtype, np\u001b[38;5;241m.\u001b[39minteger):\n\u001b[0;32m-> 1148\u001b[0m     \u001b[38;5;28;01mreturn\u001b[39;00m \u001b[43mastype_float_to_int_nansafe\u001b[49m\u001b[43m(\u001b[49m\u001b[43marr\u001b[49m\u001b[43m,\u001b[49m\u001b[43m \u001b[49m\u001b[43mdtype\u001b[49m\u001b[43m,\u001b[49m\u001b[43m \u001b[49m\u001b[43mcopy\u001b[49m\u001b[43m)\u001b[49m\n\u001b[1;32m   1150\u001b[0m \u001b[38;5;28;01melif\u001b[39;00m is_object_dtype(arr\u001b[38;5;241m.\u001b[39mdtype):\n\u001b[1;32m   1151\u001b[0m \n\u001b[1;32m   1152\u001b[0m     \u001b[38;5;66;03m# work around NumPy brokenness, #1987\u001b[39;00m\n\u001b[1;32m   1153\u001b[0m     \u001b[38;5;28;01mif\u001b[39;00m np\u001b[38;5;241m.\u001b[39missubdtype(dtype\u001b[38;5;241m.\u001b[39mtype, np\u001b[38;5;241m.\u001b[39minteger):\n",
      "File \u001b[0;32m~/.pyenv/versions/3.10.6/envs/lewagon/lib/python3.10/site-packages/pandas/core/dtypes/cast.py:1193\u001b[0m, in \u001b[0;36mastype_float_to_int_nansafe\u001b[0;34m(values, dtype, copy)\u001b[0m\n\u001b[1;32m   1189\u001b[0m \u001b[38;5;124;03m\"\"\"\u001b[39;00m\n\u001b[1;32m   1190\u001b[0m \u001b[38;5;124;03mastype with a check preventing converting NaN to an meaningless integer value.\u001b[39;00m\n\u001b[1;32m   1191\u001b[0m \u001b[38;5;124;03m\"\"\"\u001b[39;00m\n\u001b[1;32m   1192\u001b[0m \u001b[38;5;28;01mif\u001b[39;00m \u001b[38;5;129;01mnot\u001b[39;00m np\u001b[38;5;241m.\u001b[39misfinite(values)\u001b[38;5;241m.\u001b[39mall():\n\u001b[0;32m-> 1193\u001b[0m     \u001b[38;5;28;01mraise\u001b[39;00m IntCastingNaNError(\n\u001b[1;32m   1194\u001b[0m         \u001b[38;5;124m\"\u001b[39m\u001b[38;5;124mCannot convert non-finite values (NA or inf) to integer\u001b[39m\u001b[38;5;124m\"\u001b[39m\n\u001b[1;32m   1195\u001b[0m     )\n\u001b[1;32m   1196\u001b[0m \u001b[38;5;28;01mreturn\u001b[39;00m values\u001b[38;5;241m.\u001b[39mastype(dtype, copy\u001b[38;5;241m=\u001b[39mcopy)\n",
      "\u001b[0;31mIntCastingNaNError\u001b[0m: Cannot convert non-finite values (NA or inf) to integer"
     ]
    }
   ],
   "source": [
    "sales_data[\"user id\"]= sales_data[\"user id\"].round().astype( int)\n",
    "sales_data.head()"
   ]
  },
  {
   "cell_type": "markdown",
   "id": "71ec6d45",
   "metadata": {},
   "source": [
    "# Customer Details Data"
   ]
  },
  {
   "cell_type": "markdown",
   "id": "291df338",
   "metadata": {},
   "source": [
    "## Explore the data"
   ]
  },
  {
   "cell_type": "markdown",
   "id": "18e5c399",
   "metadata": {},
   "source": [
    "### Duplicates"
   ]
  },
  {
   "cell_type": "code",
   "execution_count": 12,
   "id": "6fa456f8",
   "metadata": {},
   "outputs": [
    {
     "data": {
      "text/html": [
       "<div>\n",
       "<style scoped>\n",
       "    .dataframe tbody tr th:only-of-type {\n",
       "        vertical-align: middle;\n",
       "    }\n",
       "\n",
       "    .dataframe tbody tr th {\n",
       "        vertical-align: top;\n",
       "    }\n",
       "\n",
       "    .dataframe thead th {\n",
       "        text-align: right;\n",
       "    }\n",
       "</style>\n",
       "<table border=\"1\" class=\"dataframe\">\n",
       "  <thead>\n",
       "    <tr style=\"text-align: right;\">\n",
       "      <th></th>\n",
       "      <th>Customer ID</th>\n",
       "      <th>Age</th>\n",
       "      <th>Gender</th>\n",
       "      <th>Item Purchased</th>\n",
       "      <th>Category</th>\n",
       "      <th>Purchase Amount (USD)</th>\n",
       "      <th>Location</th>\n",
       "      <th>Size</th>\n",
       "      <th>Color</th>\n",
       "      <th>Season</th>\n",
       "      <th>Review Rating</th>\n",
       "      <th>Subscription Status</th>\n",
       "      <th>Shipping Type</th>\n",
       "      <th>Discount Applied</th>\n",
       "      <th>Promo Code Used</th>\n",
       "      <th>Previous Purchases</th>\n",
       "      <th>Payment Method</th>\n",
       "      <th>Frequency of Purchases</th>\n",
       "    </tr>\n",
       "  </thead>\n",
       "  <tbody>\n",
       "    <tr>\n",
       "      <th>0</th>\n",
       "      <td>1</td>\n",
       "      <td>55</td>\n",
       "      <td>Male</td>\n",
       "      <td>Blouse</td>\n",
       "      <td>Clothing</td>\n",
       "      <td>53</td>\n",
       "      <td>Kentucky</td>\n",
       "      <td>L</td>\n",
       "      <td>Gray</td>\n",
       "      <td>Winter</td>\n",
       "      <td>3.1</td>\n",
       "      <td>Yes</td>\n",
       "      <td>Express</td>\n",
       "      <td>Yes</td>\n",
       "      <td>Yes</td>\n",
       "      <td>14</td>\n",
       "      <td>Venmo</td>\n",
       "      <td>Fortnightly</td>\n",
       "    </tr>\n",
       "    <tr>\n",
       "      <th>1</th>\n",
       "      <td>2</td>\n",
       "      <td>19</td>\n",
       "      <td>Male</td>\n",
       "      <td>Sweater</td>\n",
       "      <td>Clothing</td>\n",
       "      <td>64</td>\n",
       "      <td>Maine</td>\n",
       "      <td>L</td>\n",
       "      <td>Maroon</td>\n",
       "      <td>Winter</td>\n",
       "      <td>3.1</td>\n",
       "      <td>Yes</td>\n",
       "      <td>Express</td>\n",
       "      <td>Yes</td>\n",
       "      <td>Yes</td>\n",
       "      <td>2</td>\n",
       "      <td>Cash</td>\n",
       "      <td>Fortnightly</td>\n",
       "    </tr>\n",
       "    <tr>\n",
       "      <th>2</th>\n",
       "      <td>3</td>\n",
       "      <td>50</td>\n",
       "      <td>Male</td>\n",
       "      <td>Jeans</td>\n",
       "      <td>Clothing</td>\n",
       "      <td>73</td>\n",
       "      <td>Massachusetts</td>\n",
       "      <td>S</td>\n",
       "      <td>Maroon</td>\n",
       "      <td>Spring</td>\n",
       "      <td>3.1</td>\n",
       "      <td>Yes</td>\n",
       "      <td>Free Shipping</td>\n",
       "      <td>Yes</td>\n",
       "      <td>Yes</td>\n",
       "      <td>23</td>\n",
       "      <td>Credit Card</td>\n",
       "      <td>Weekly</td>\n",
       "    </tr>\n",
       "    <tr>\n",
       "      <th>3</th>\n",
       "      <td>4</td>\n",
       "      <td>21</td>\n",
       "      <td>Male</td>\n",
       "      <td>Sandals</td>\n",
       "      <td>Footwear</td>\n",
       "      <td>90</td>\n",
       "      <td>Rhode Island</td>\n",
       "      <td>M</td>\n",
       "      <td>Maroon</td>\n",
       "      <td>Spring</td>\n",
       "      <td>3.5</td>\n",
       "      <td>Yes</td>\n",
       "      <td>Next Day Air</td>\n",
       "      <td>Yes</td>\n",
       "      <td>Yes</td>\n",
       "      <td>49</td>\n",
       "      <td>PayPal</td>\n",
       "      <td>Weekly</td>\n",
       "    </tr>\n",
       "    <tr>\n",
       "      <th>4</th>\n",
       "      <td>5</td>\n",
       "      <td>45</td>\n",
       "      <td>Male</td>\n",
       "      <td>Blouse</td>\n",
       "      <td>Clothing</td>\n",
       "      <td>49</td>\n",
       "      <td>Oregon</td>\n",
       "      <td>M</td>\n",
       "      <td>Turquoise</td>\n",
       "      <td>Spring</td>\n",
       "      <td>2.7</td>\n",
       "      <td>Yes</td>\n",
       "      <td>Free Shipping</td>\n",
       "      <td>Yes</td>\n",
       "      <td>Yes</td>\n",
       "      <td>31</td>\n",
       "      <td>PayPal</td>\n",
       "      <td>Annually</td>\n",
       "    </tr>\n",
       "  </tbody>\n",
       "</table>\n",
       "</div>"
      ],
      "text/plain": [
       "   Customer ID  Age Gender Item Purchased  Category  Purchase Amount (USD)  \\\n",
       "0            1   55   Male         Blouse  Clothing                     53   \n",
       "1            2   19   Male        Sweater  Clothing                     64   \n",
       "2            3   50   Male          Jeans  Clothing                     73   \n",
       "3            4   21   Male        Sandals  Footwear                     90   \n",
       "4            5   45   Male         Blouse  Clothing                     49   \n",
       "\n",
       "        Location Size      Color  Season  Review Rating Subscription Status  \\\n",
       "0       Kentucky    L       Gray  Winter            3.1                 Yes   \n",
       "1          Maine    L     Maroon  Winter            3.1                 Yes   \n",
       "2  Massachusetts    S     Maroon  Spring            3.1                 Yes   \n",
       "3   Rhode Island    M     Maroon  Spring            3.5                 Yes   \n",
       "4         Oregon    M  Turquoise  Spring            2.7                 Yes   \n",
       "\n",
       "   Shipping Type Discount Applied Promo Code Used  Previous Purchases  \\\n",
       "0        Express              Yes             Yes                  14   \n",
       "1        Express              Yes             Yes                   2   \n",
       "2  Free Shipping              Yes             Yes                  23   \n",
       "3   Next Day Air              Yes             Yes                  49   \n",
       "4  Free Shipping              Yes             Yes                  31   \n",
       "\n",
       "  Payment Method Frequency of Purchases  \n",
       "0          Venmo            Fortnightly  \n",
       "1           Cash            Fortnightly  \n",
       "2    Credit Card                 Weekly  \n",
       "3         PayPal                 Weekly  \n",
       "4         PayPal               Annually  "
      ]
     },
     "execution_count": 12,
     "metadata": {},
     "output_type": "execute_result"
    }
   ],
   "source": [
    "customer_data = pd.read_csv(\"customer_details.csv\")\n",
    "customer_data.head()"
   ]
  },
  {
   "cell_type": "code",
   "execution_count": 13,
   "id": "79ddb408",
   "metadata": {},
   "outputs": [
    {
     "data": {
      "text/plain": [
       "Index(['Customer ID', 'Age', 'Gender', 'Item Purchased', 'Category',\n",
       "       'Purchase Amount (USD)', 'Location', 'Size', 'Color', 'Season',\n",
       "       'Review Rating', 'Subscription Status', 'Shipping Type',\n",
       "       'Discount Applied', 'Promo Code Used', 'Previous Purchases',\n",
       "       'Payment Method', 'Frequency of Purchases'],\n",
       "      dtype='object')"
      ]
     },
     "execution_count": 13,
     "metadata": {},
     "output_type": "execute_result"
    }
   ],
   "source": [
    "customer_data.columns"
   ]
  },
  {
   "cell_type": "code",
   "execution_count": 14,
   "id": "aafcfb2b",
   "metadata": {},
   "outputs": [
    {
     "data": {
      "text/plain": [
       "0       False\n",
       "1       False\n",
       "2       False\n",
       "3       False\n",
       "4       False\n",
       "        ...  \n",
       "3895    False\n",
       "3896    False\n",
       "3897    False\n",
       "3898    False\n",
       "3899    False\n",
       "Length: 3900, dtype: bool"
      ]
     },
     "execution_count": 14,
     "metadata": {},
     "output_type": "execute_result"
    }
   ],
   "source": [
    "customer_data.duplicated()"
   ]
  },
  {
   "cell_type": "code",
   "execution_count": 15,
   "id": "119215ef",
   "metadata": {},
   "outputs": [
    {
     "data": {
      "text/plain": [
       "0"
      ]
     },
     "execution_count": 15,
     "metadata": {},
     "output_type": "execute_result"
    }
   ],
   "source": [
    "sales_data.duplicated().sum()"
   ]
  },
  {
   "cell_type": "markdown",
   "id": "d38169f2",
   "metadata": {},
   "source": [
    "### Missing data"
   ]
  },
  {
   "cell_type": "code",
   "execution_count": 16,
   "id": "98b57ba1",
   "metadata": {},
   "outputs": [
    {
     "data": {
      "text/plain": [
       "Customer ID               0\n",
       "Age                       0\n",
       "Payment Method            0\n",
       "Previous Purchases        0\n",
       "Promo Code Used           0\n",
       "Discount Applied          0\n",
       "Shipping Type             0\n",
       "Subscription Status       0\n",
       "Review Rating             0\n",
       "Season                    0\n",
       "Color                     0\n",
       "Size                      0\n",
       "Location                  0\n",
       "Purchase Amount (USD)     0\n",
       "Category                  0\n",
       "Item Purchased            0\n",
       "Gender                    0\n",
       "Frequency of Purchases    0\n",
       "dtype: int64"
      ]
     },
     "execution_count": 16,
     "metadata": {},
     "output_type": "execute_result"
    }
   ],
   "source": [
    "customer_data.isnull().sum().sort_values(ascending=False)"
   ]
  },
  {
   "cell_type": "code",
   "execution_count": 17,
   "id": "d7a107fb",
   "metadata": {},
   "outputs": [
    {
     "data": {
      "text/plain": [
       "Index(['Customer ID', 'Age', 'Gender', 'Item Purchased', 'Category',\n",
       "       'Purchase Amount (USD)', 'Location', 'Size', 'Color', 'Season',\n",
       "       'Review Rating', 'Subscription Status', 'Shipping Type',\n",
       "       'Discount Applied', 'Promo Code Used', 'Previous Purchases',\n",
       "       'Payment Method', 'Frequency of Purchases'],\n",
       "      dtype='object')"
      ]
     },
     "execution_count": 17,
     "metadata": {},
     "output_type": "execute_result"
    }
   ],
   "source": [
    "customer_data.columns"
   ]
  },
  {
   "cell_type": "code",
   "execution_count": 18,
   "id": "03348df8",
   "metadata": {},
   "outputs": [
    {
     "data": {
      "text/html": [
       "<div>\n",
       "<style scoped>\n",
       "    .dataframe tbody tr th:only-of-type {\n",
       "        vertical-align: middle;\n",
       "    }\n",
       "\n",
       "    .dataframe tbody tr th {\n",
       "        vertical-align: top;\n",
       "    }\n",
       "\n",
       "    .dataframe thead th {\n",
       "        text-align: right;\n",
       "    }\n",
       "</style>\n",
       "<table border=\"1\" class=\"dataframe\">\n",
       "  <thead>\n",
       "    <tr style=\"text-align: right;\">\n",
       "      <th></th>\n",
       "      <th>user id</th>\n",
       "      <th>Age</th>\n",
       "      <th>Gender</th>\n",
       "      <th>Item Purchased</th>\n",
       "      <th>Category</th>\n",
       "      <th>Purchase Amount (USD)</th>\n",
       "      <th>Location</th>\n",
       "      <th>Size</th>\n",
       "      <th>Color</th>\n",
       "      <th>Season</th>\n",
       "      <th>Review Rating</th>\n",
       "      <th>Subscription Status</th>\n",
       "      <th>Shipping Type</th>\n",
       "      <th>Discount Applied</th>\n",
       "      <th>Promo Code Used</th>\n",
       "      <th>Previous Purchases</th>\n",
       "      <th>Payment Method</th>\n",
       "      <th>Frequency of Purchases</th>\n",
       "    </tr>\n",
       "  </thead>\n",
       "  <tbody>\n",
       "    <tr>\n",
       "      <th>0</th>\n",
       "      <td>1</td>\n",
       "      <td>55</td>\n",
       "      <td>Male</td>\n",
       "      <td>Blouse</td>\n",
       "      <td>Clothing</td>\n",
       "      <td>53</td>\n",
       "      <td>Kentucky</td>\n",
       "      <td>L</td>\n",
       "      <td>Gray</td>\n",
       "      <td>Winter</td>\n",
       "      <td>3.1</td>\n",
       "      <td>Yes</td>\n",
       "      <td>Express</td>\n",
       "      <td>Yes</td>\n",
       "      <td>Yes</td>\n",
       "      <td>14</td>\n",
       "      <td>Venmo</td>\n",
       "      <td>Fortnightly</td>\n",
       "    </tr>\n",
       "    <tr>\n",
       "      <th>1</th>\n",
       "      <td>2</td>\n",
       "      <td>19</td>\n",
       "      <td>Male</td>\n",
       "      <td>Sweater</td>\n",
       "      <td>Clothing</td>\n",
       "      <td>64</td>\n",
       "      <td>Maine</td>\n",
       "      <td>L</td>\n",
       "      <td>Maroon</td>\n",
       "      <td>Winter</td>\n",
       "      <td>3.1</td>\n",
       "      <td>Yes</td>\n",
       "      <td>Express</td>\n",
       "      <td>Yes</td>\n",
       "      <td>Yes</td>\n",
       "      <td>2</td>\n",
       "      <td>Cash</td>\n",
       "      <td>Fortnightly</td>\n",
       "    </tr>\n",
       "    <tr>\n",
       "      <th>2</th>\n",
       "      <td>3</td>\n",
       "      <td>50</td>\n",
       "      <td>Male</td>\n",
       "      <td>Jeans</td>\n",
       "      <td>Clothing</td>\n",
       "      <td>73</td>\n",
       "      <td>Massachusetts</td>\n",
       "      <td>S</td>\n",
       "      <td>Maroon</td>\n",
       "      <td>Spring</td>\n",
       "      <td>3.1</td>\n",
       "      <td>Yes</td>\n",
       "      <td>Free Shipping</td>\n",
       "      <td>Yes</td>\n",
       "      <td>Yes</td>\n",
       "      <td>23</td>\n",
       "      <td>Credit Card</td>\n",
       "      <td>Weekly</td>\n",
       "    </tr>\n",
       "    <tr>\n",
       "      <th>3</th>\n",
       "      <td>4</td>\n",
       "      <td>21</td>\n",
       "      <td>Male</td>\n",
       "      <td>Sandals</td>\n",
       "      <td>Footwear</td>\n",
       "      <td>90</td>\n",
       "      <td>Rhode Island</td>\n",
       "      <td>M</td>\n",
       "      <td>Maroon</td>\n",
       "      <td>Spring</td>\n",
       "      <td>3.5</td>\n",
       "      <td>Yes</td>\n",
       "      <td>Next Day Air</td>\n",
       "      <td>Yes</td>\n",
       "      <td>Yes</td>\n",
       "      <td>49</td>\n",
       "      <td>PayPal</td>\n",
       "      <td>Weekly</td>\n",
       "    </tr>\n",
       "    <tr>\n",
       "      <th>4</th>\n",
       "      <td>5</td>\n",
       "      <td>45</td>\n",
       "      <td>Male</td>\n",
       "      <td>Blouse</td>\n",
       "      <td>Clothing</td>\n",
       "      <td>49</td>\n",
       "      <td>Oregon</td>\n",
       "      <td>M</td>\n",
       "      <td>Turquoise</td>\n",
       "      <td>Spring</td>\n",
       "      <td>2.7</td>\n",
       "      <td>Yes</td>\n",
       "      <td>Free Shipping</td>\n",
       "      <td>Yes</td>\n",
       "      <td>Yes</td>\n",
       "      <td>31</td>\n",
       "      <td>PayPal</td>\n",
       "      <td>Annually</td>\n",
       "    </tr>\n",
       "  </tbody>\n",
       "</table>\n",
       "</div>"
      ],
      "text/plain": [
       "   user id  Age Gender Item Purchased  Category  Purchase Amount (USD)  \\\n",
       "0        1   55   Male         Blouse  Clothing                     53   \n",
       "1        2   19   Male        Sweater  Clothing                     64   \n",
       "2        3   50   Male          Jeans  Clothing                     73   \n",
       "3        4   21   Male        Sandals  Footwear                     90   \n",
       "4        5   45   Male         Blouse  Clothing                     49   \n",
       "\n",
       "        Location Size      Color  Season  Review Rating Subscription Status  \\\n",
       "0       Kentucky    L       Gray  Winter            3.1                 Yes   \n",
       "1          Maine    L     Maroon  Winter            3.1                 Yes   \n",
       "2  Massachusetts    S     Maroon  Spring            3.1                 Yes   \n",
       "3   Rhode Island    M     Maroon  Spring            3.5                 Yes   \n",
       "4         Oregon    M  Turquoise  Spring            2.7                 Yes   \n",
       "\n",
       "   Shipping Type Discount Applied Promo Code Used  Previous Purchases  \\\n",
       "0        Express              Yes             Yes                  14   \n",
       "1        Express              Yes             Yes                   2   \n",
       "2  Free Shipping              Yes             Yes                  23   \n",
       "3   Next Day Air              Yes             Yes                  49   \n",
       "4  Free Shipping              Yes             Yes                  31   \n",
       "\n",
       "  Payment Method Frequency of Purchases  \n",
       "0          Venmo            Fortnightly  \n",
       "1           Cash            Fortnightly  \n",
       "2    Credit Card                 Weekly  \n",
       "3         PayPal                 Weekly  \n",
       "4         PayPal               Annually  "
      ]
     },
     "execution_count": 18,
     "metadata": {},
     "output_type": "execute_result"
    }
   ],
   "source": [
    "customer_data.rename(columns={'Customer ID': 'user id'}, inplace=True)\n",
    "customer_data.head()"
   ]
  },
  {
   "cell_type": "markdown",
   "id": "af327322",
   "metadata": {},
   "source": [
    "# Products data"
   ]
  },
  {
   "cell_type": "markdown",
   "id": "5b8b4cf0",
   "metadata": {},
   "source": [
    "## Explore the data"
   ]
  },
  {
   "cell_type": "markdown",
   "id": "a2a51612",
   "metadata": {},
   "source": [
    "### Duplicates"
   ]
  },
  {
   "cell_type": "code",
   "execution_count": 19,
   "id": "e58c1995",
   "metadata": {},
   "outputs": [
    {
     "data": {
      "text/plain": [
       "(10002, 28)"
      ]
     },
     "execution_count": 19,
     "metadata": {},
     "output_type": "execute_result"
    }
   ],
   "source": [
    "products_data = pd.read_csv(\"product_details.csv\")\n",
    "products_data.shape"
   ]
  },
  {
   "cell_type": "code",
   "execution_count": 20,
   "id": "44a7ad71",
   "metadata": {},
   "outputs": [
    {
     "data": {
      "text/plain": [
       "Index(['Uniqe Id', 'Product Name', 'Brand Name', 'Asin', 'Category',\n",
       "       'Upc Ean Code', 'List Price', 'Selling Price', 'Quantity',\n",
       "       'Model Number', 'About Product', 'Product Specification',\n",
       "       'Technical Details', 'Shipping Weight', 'Product Dimensions', 'Image',\n",
       "       'Variants', 'Sku', 'Product Url', 'Stock', 'Product Details',\n",
       "       'Dimensions', 'Color', 'Ingredients', 'Direction To Use',\n",
       "       'Is Amazon Seller', 'Size Quantity Variant', 'Product Description'],\n",
       "      dtype='object')"
      ]
     },
     "execution_count": 20,
     "metadata": {},
     "output_type": "execute_result"
    }
   ],
   "source": [
    "products_data.columns"
   ]
  },
  {
   "cell_type": "code",
   "execution_count": 21,
   "id": "e5158e16",
   "metadata": {},
   "outputs": [
    {
     "data": {
      "text/plain": [
       "0        False\n",
       "1        False\n",
       "2        False\n",
       "3        False\n",
       "4        False\n",
       "         ...  \n",
       "9997     False\n",
       "9998     False\n",
       "9999     False\n",
       "10000    False\n",
       "10001    False\n",
       "Length: 10002, dtype: bool"
      ]
     },
     "execution_count": 21,
     "metadata": {},
     "output_type": "execute_result"
    }
   ],
   "source": [
    "\n",
    "products_data.duplicated()"
   ]
  },
  {
   "cell_type": "code",
   "execution_count": 22,
   "id": "3421edcd",
   "metadata": {},
   "outputs": [
    {
     "data": {
      "text/plain": [
       "0"
      ]
     },
     "execution_count": 22,
     "metadata": {},
     "output_type": "execute_result"
    }
   ],
   "source": [
    "products_data.duplicated().sum()"
   ]
  },
  {
   "cell_type": "markdown",
   "id": "b782b0e0",
   "metadata": {},
   "source": [
    "### Missing data"
   ]
  },
  {
   "cell_type": "code",
   "execution_count": 23,
   "id": "e7dbd695",
   "metadata": {},
   "outputs": [
    {
     "data": {
      "text/plain": [
       "Product Description      10002\n",
       "Sku                      10002\n",
       "Brand Name               10002\n",
       "Asin                     10002\n",
       "Size Quantity Variant    10002\n",
       "List Price               10002\n",
       "Direction To Use         10002\n",
       "Quantity                 10002\n",
       "Ingredients              10002\n",
       "Color                    10002\n",
       "Dimensions               10002\n",
       "Product Details          10002\n",
       "Stock                    10002\n",
       "Upc Ean Code              9968\n",
       "Product Dimensions        9523\n",
       "Variants                  7524\n",
       "Model Number              1770\n",
       "Product Specification     1632\n",
       "Shipping Weight           1138\n",
       "Category                   830\n",
       "Technical Details          790\n",
       "About Product              273\n",
       "Selling Price              107\n",
       "Image                        0\n",
       "Product Name                 0\n",
       "Product Url                  0\n",
       "Is Amazon Seller             0\n",
       "Uniqe Id                     0\n",
       "dtype: int64"
      ]
     },
     "execution_count": 23,
     "metadata": {},
     "output_type": "execute_result"
    }
   ],
   "source": [
    "products_data.isnull().sum().sort_values(ascending=False)"
   ]
  },
  {
   "cell_type": "code",
   "execution_count": 24,
   "id": "f7f78b6f",
   "metadata": {},
   "outputs": [],
   "source": [
    "columns_to_drop = ['Product Description', 'Sku', 'Brand Name', 'Asin',\n",
    "                   'Size Quantity Variant', 'List Price', 'Direction To Use',\n",
    "                   'Quantity', 'Ingredients', 'Color', 'Dimensions',\n",
    "                   'Product Details', 'Stock', \"Upc Ean Code\", \"Product Dimensions\", \"Variants\", \"Model Number\",\n",
    "                   \"Product Specification\", \"Shipping Weight\"]\n",
    "\n",
    "products_data.drop(columns=columns_to_drop, inplace=True)"
   ]
  },
  {
   "cell_type": "code",
   "execution_count": 25,
   "id": "983424d8",
   "metadata": {},
   "outputs": [
    {
     "data": {
      "text/html": [
       "<div>\n",
       "<style scoped>\n",
       "    .dataframe tbody tr th:only-of-type {\n",
       "        vertical-align: middle;\n",
       "    }\n",
       "\n",
       "    .dataframe tbody tr th {\n",
       "        vertical-align: top;\n",
       "    }\n",
       "\n",
       "    .dataframe thead th {\n",
       "        text-align: right;\n",
       "    }\n",
       "</style>\n",
       "<table border=\"1\" class=\"dataframe\">\n",
       "  <thead>\n",
       "    <tr style=\"text-align: right;\">\n",
       "      <th></th>\n",
       "      <th>Uniqe Id</th>\n",
       "      <th>Product Name</th>\n",
       "      <th>Category</th>\n",
       "      <th>Selling Price</th>\n",
       "      <th>About Product</th>\n",
       "      <th>Technical Details</th>\n",
       "      <th>Image</th>\n",
       "      <th>Product Url</th>\n",
       "      <th>Is Amazon Seller</th>\n",
       "    </tr>\n",
       "  </thead>\n",
       "  <tbody>\n",
       "    <tr>\n",
       "      <th>0</th>\n",
       "      <td>4c69b61db1fc16e7013b43fc926e502d</td>\n",
       "      <td>DB Longboards CoreFlex Crossbow 41\" Bamboo Fib...</td>\n",
       "      <td>Sports &amp; Outdoors | Outdoor Recreation | Skate...</td>\n",
       "      <td>$237.68</td>\n",
       "      <td>Make sure this fits by entering your model num...</td>\n",
       "      <td>NaN</td>\n",
       "      <td>https://images-na.ssl-images-amazon.com/images...</td>\n",
       "      <td>https://www.amazon.com/DB-Longboards-CoreFlex-...</td>\n",
       "      <td>Y</td>\n",
       "    </tr>\n",
       "    <tr>\n",
       "      <th>1</th>\n",
       "      <td>66d49bbed043f5be260fa9f7fbff5957</td>\n",
       "      <td>Electronic Snap Circuits Mini Kits Classpack, ...</td>\n",
       "      <td>Toys &amp; Games | Learning &amp; Education | Science ...</td>\n",
       "      <td>$99.95</td>\n",
       "      <td>Make sure this fits by entering your model num...</td>\n",
       "      <td>The snap circuits mini kits classpack provides...</td>\n",
       "      <td>https://images-na.ssl-images-amazon.com/images...</td>\n",
       "      <td>https://www.amazon.com/Electronic-Circuits-Cla...</td>\n",
       "      <td>Y</td>\n",
       "    </tr>\n",
       "    <tr>\n",
       "      <th>2</th>\n",
       "      <td>2c55cae269aebf53838484b0d7dd931a</td>\n",
       "      <td>3Doodler Create Flexy 3D Printing Filament Ref...</td>\n",
       "      <td>Toys &amp; Games | Arts &amp; Crafts | Craft Kits</td>\n",
       "      <td>$34.99</td>\n",
       "      <td>Make sure this fits by entering your model num...</td>\n",
       "      <td>show up to 2 reviews by default No longer are ...</td>\n",
       "      <td>https://images-na.ssl-images-amazon.com/images...</td>\n",
       "      <td>https://www.amazon.com/3Doodler-Plastic-Innova...</td>\n",
       "      <td>Y</td>\n",
       "    </tr>\n",
       "    <tr>\n",
       "      <th>3</th>\n",
       "      <td>18018b6bc416dab347b1b7db79994afa</td>\n",
       "      <td>Guillow Airplane Design Studio with Travel Cas...</td>\n",
       "      <td>Toys &amp; Games | Hobbies | Models &amp; Model Kits |...</td>\n",
       "      <td>$28.91</td>\n",
       "      <td>Make 8 different Planes at one time. | Experim...</td>\n",
       "      <td>Go to your orders and start the return Select ...</td>\n",
       "      <td>https://images-na.ssl-images-amazon.com/images...</td>\n",
       "      <td>https://www.amazon.com/Guillow-Airplane-Design...</td>\n",
       "      <td>Y</td>\n",
       "    </tr>\n",
       "    <tr>\n",
       "      <th>4</th>\n",
       "      <td>e04b990e95bf73bbe6a3fa09785d7cd0</td>\n",
       "      <td>Woodstock- Collage 500 pc Puzzle</td>\n",
       "      <td>Toys &amp; Games | Puzzles | Jigsaw Puzzles</td>\n",
       "      <td>$17.49</td>\n",
       "      <td>Make sure this fits by entering your model num...</td>\n",
       "      <td>show up to 2 reviews by default 100% Officiall...</td>\n",
       "      <td>https://images-na.ssl-images-amazon.com/images...</td>\n",
       "      <td>https://www.amazon.com/Woodstock-Collage-500-p...</td>\n",
       "      <td>Y</td>\n",
       "    </tr>\n",
       "  </tbody>\n",
       "</table>\n",
       "</div>"
      ],
      "text/plain": [
       "                           Uniqe Id  \\\n",
       "0  4c69b61db1fc16e7013b43fc926e502d   \n",
       "1  66d49bbed043f5be260fa9f7fbff5957   \n",
       "2  2c55cae269aebf53838484b0d7dd931a   \n",
       "3  18018b6bc416dab347b1b7db79994afa   \n",
       "4  e04b990e95bf73bbe6a3fa09785d7cd0   \n",
       "\n",
       "                                        Product Name  \\\n",
       "0  DB Longboards CoreFlex Crossbow 41\" Bamboo Fib...   \n",
       "1  Electronic Snap Circuits Mini Kits Classpack, ...   \n",
       "2  3Doodler Create Flexy 3D Printing Filament Ref...   \n",
       "3  Guillow Airplane Design Studio with Travel Cas...   \n",
       "4                   Woodstock- Collage 500 pc Puzzle   \n",
       "\n",
       "                                            Category Selling Price  \\\n",
       "0  Sports & Outdoors | Outdoor Recreation | Skate...       $237.68   \n",
       "1  Toys & Games | Learning & Education | Science ...        $99.95   \n",
       "2          Toys & Games | Arts & Crafts | Craft Kits        $34.99   \n",
       "3  Toys & Games | Hobbies | Models & Model Kits |...        $28.91   \n",
       "4            Toys & Games | Puzzles | Jigsaw Puzzles        $17.49   \n",
       "\n",
       "                                       About Product  \\\n",
       "0  Make sure this fits by entering your model num...   \n",
       "1  Make sure this fits by entering your model num...   \n",
       "2  Make sure this fits by entering your model num...   \n",
       "3  Make 8 different Planes at one time. | Experim...   \n",
       "4  Make sure this fits by entering your model num...   \n",
       "\n",
       "                                   Technical Details  \\\n",
       "0                                                NaN   \n",
       "1  The snap circuits mini kits classpack provides...   \n",
       "2  show up to 2 reviews by default No longer are ...   \n",
       "3  Go to your orders and start the return Select ...   \n",
       "4  show up to 2 reviews by default 100% Officiall...   \n",
       "\n",
       "                                               Image  \\\n",
       "0  https://images-na.ssl-images-amazon.com/images...   \n",
       "1  https://images-na.ssl-images-amazon.com/images...   \n",
       "2  https://images-na.ssl-images-amazon.com/images...   \n",
       "3  https://images-na.ssl-images-amazon.com/images...   \n",
       "4  https://images-na.ssl-images-amazon.com/images...   \n",
       "\n",
       "                                         Product Url Is Amazon Seller  \n",
       "0  https://www.amazon.com/DB-Longboards-CoreFlex-...                Y  \n",
       "1  https://www.amazon.com/Electronic-Circuits-Cla...                Y  \n",
       "2  https://www.amazon.com/3Doodler-Plastic-Innova...                Y  \n",
       "3  https://www.amazon.com/Guillow-Airplane-Design...                Y  \n",
       "4  https://www.amazon.com/Woodstock-Collage-500-p...                Y  "
      ]
     },
     "execution_count": 25,
     "metadata": {},
     "output_type": "execute_result"
    }
   ],
   "source": [
    "products_data.head()"
   ]
  },
  {
   "cell_type": "code",
   "execution_count": 26,
   "id": "83d7dd03",
   "metadata": {},
   "outputs": [],
   "source": [
    "columns_to_fill = ['Category', 'Technical Details', 'About Product', 'Selling Price']\n",
    "\n",
    "products_data[columns_to_fill] = products_data[columns_to_fill].fillna(products_data[columns_to_fill].mode().iloc[0])"
   ]
  },
  {
   "cell_type": "code",
   "execution_count": 27,
   "id": "dadc174c",
   "metadata": {
    "scrolled": true
   },
   "outputs": [
    {
     "data": {
      "text/plain": [
       "Uniqe Id             0\n",
       "Product Name         0\n",
       "Category             0\n",
       "Selling Price        0\n",
       "About Product        0\n",
       "Technical Details    0\n",
       "Image                0\n",
       "Product Url          0\n",
       "Is Amazon Seller     0\n",
       "dtype: int64"
      ]
     },
     "execution_count": 27,
     "metadata": {},
     "output_type": "execute_result"
    }
   ],
   "source": [
    "products_data.isnull().sum().sort_values(ascending=False)"
   ]
  },
  {
   "cell_type": "code",
   "execution_count": 28,
   "id": "c99d2605",
   "metadata": {},
   "outputs": [
    {
     "data": {
      "text/plain": [
       "Index(['Uniqe Id', 'Product Name', 'Category', 'Selling Price',\n",
       "       'About Product', 'Technical Details', 'Image', 'Product Url',\n",
       "       'Is Amazon Seller'],\n",
       "      dtype='object')"
      ]
     },
     "execution_count": 28,
     "metadata": {},
     "output_type": "execute_result"
    }
   ],
   "source": [
    "products_data.columns"
   ]
  },
  {
   "cell_type": "markdown",
   "id": "d5d8d26d",
   "metadata": {},
   "source": [
    "# Merging the datasets :"
   ]
  },
  {
   "cell_type": "code",
   "execution_count": 29,
   "id": "0e204864",
   "metadata": {},
   "outputs": [],
   "source": [
    "#products_data['Product_Description'] = products_data['Product Name'] + ' ' + products_data['Technical Details'] + ' ' + products_data['Category']+ ' ' + products_data['About Product']"
   ]
  },
  {
   "cell_type": "code",
   "execution_count": 30,
   "id": "c5585ef7",
   "metadata": {},
   "outputs": [
    {
     "data": {
      "text/html": [
       "<div>\n",
       "<style scoped>\n",
       "    .dataframe tbody tr th:only-of-type {\n",
       "        vertical-align: middle;\n",
       "    }\n",
       "\n",
       "    .dataframe tbody tr th {\n",
       "        vertical-align: top;\n",
       "    }\n",
       "\n",
       "    .dataframe thead th {\n",
       "        text-align: right;\n",
       "    }\n",
       "</style>\n",
       "<table border=\"1\" class=\"dataframe\">\n",
       "  <thead>\n",
       "    <tr style=\"text-align: right;\">\n",
       "      <th></th>\n",
       "      <th>user id</th>\n",
       "      <th>product id</th>\n",
       "      <th>Interaction type</th>\n",
       "      <th>Time stamp</th>\n",
       "      <th>Date</th>\n",
       "      <th>Time</th>\n",
       "      <th>Age</th>\n",
       "      <th>Gender</th>\n",
       "      <th>Item Purchased</th>\n",
       "      <th>Category_x</th>\n",
       "      <th>...</th>\n",
       "      <th>Frequency of Purchases</th>\n",
       "      <th>Uniqe Id</th>\n",
       "      <th>Product Name</th>\n",
       "      <th>Category_y</th>\n",
       "      <th>Selling Price</th>\n",
       "      <th>About Product</th>\n",
       "      <th>Technical Details</th>\n",
       "      <th>Image</th>\n",
       "      <th>Product Url</th>\n",
       "      <th>Is Amazon Seller</th>\n",
       "    </tr>\n",
       "  </thead>\n",
       "  <tbody>\n",
       "    <tr>\n",
       "      <th>0</th>\n",
       "      <td>1.0</td>\n",
       "      <td>4c69b61db1fc16e7013b43fc926e502d</td>\n",
       "      <td>purchase</td>\n",
       "      <td>10/10/2023 8:00</td>\n",
       "      <td>10/10/2023</td>\n",
       "      <td>8:00</td>\n",
       "      <td>55</td>\n",
       "      <td>Male</td>\n",
       "      <td>Blouse</td>\n",
       "      <td>Clothing</td>\n",
       "      <td>...</td>\n",
       "      <td>Fortnightly</td>\n",
       "      <td>4c69b61db1fc16e7013b43fc926e502d</td>\n",
       "      <td>DB Longboards CoreFlex Crossbow 41\" Bamboo Fib...</td>\n",
       "      <td>Sports &amp; Outdoors | Outdoor Recreation | Skate...</td>\n",
       "      <td>$237.68</td>\n",
       "      <td>Make sure this fits by entering your model num...</td>\n",
       "      <td>Go to your orders and start the return Select ...</td>\n",
       "      <td>https://images-na.ssl-images-amazon.com/images...</td>\n",
       "      <td>https://www.amazon.com/DB-Longboards-CoreFlex-...</td>\n",
       "      <td>Y</td>\n",
       "    </tr>\n",
       "    <tr>\n",
       "      <th>1</th>\n",
       "      <td>2.0</td>\n",
       "      <td>66d49bbed043f5be260fa9f7fbff5957</td>\n",
       "      <td>view</td>\n",
       "      <td>11/10/2023 8:00</td>\n",
       "      <td>11/10/2023</td>\n",
       "      <td>8:00</td>\n",
       "      <td>19</td>\n",
       "      <td>Male</td>\n",
       "      <td>Sweater</td>\n",
       "      <td>Clothing</td>\n",
       "      <td>...</td>\n",
       "      <td>Fortnightly</td>\n",
       "      <td>66d49bbed043f5be260fa9f7fbff5957</td>\n",
       "      <td>Electronic Snap Circuits Mini Kits Classpack, ...</td>\n",
       "      <td>Toys &amp; Games | Learning &amp; Education | Science ...</td>\n",
       "      <td>$99.95</td>\n",
       "      <td>Make sure this fits by entering your model num...</td>\n",
       "      <td>The snap circuits mini kits classpack provides...</td>\n",
       "      <td>https://images-na.ssl-images-amazon.com/images...</td>\n",
       "      <td>https://www.amazon.com/Electronic-Circuits-Cla...</td>\n",
       "      <td>Y</td>\n",
       "    </tr>\n",
       "    <tr>\n",
       "      <th>2</th>\n",
       "      <td>3.0</td>\n",
       "      <td>2c55cae269aebf53838484b0d7dd931a</td>\n",
       "      <td>like</td>\n",
       "      <td>12/10/2023 8:00</td>\n",
       "      <td>12/10/2023</td>\n",
       "      <td>8:00</td>\n",
       "      <td>50</td>\n",
       "      <td>Male</td>\n",
       "      <td>Jeans</td>\n",
       "      <td>Clothing</td>\n",
       "      <td>...</td>\n",
       "      <td>Weekly</td>\n",
       "      <td>2c55cae269aebf53838484b0d7dd931a</td>\n",
       "      <td>3Doodler Create Flexy 3D Printing Filament Ref...</td>\n",
       "      <td>Toys &amp; Games | Arts &amp; Crafts | Craft Kits</td>\n",
       "      <td>$34.99</td>\n",
       "      <td>Make sure this fits by entering your model num...</td>\n",
       "      <td>show up to 2 reviews by default No longer are ...</td>\n",
       "      <td>https://images-na.ssl-images-amazon.com/images...</td>\n",
       "      <td>https://www.amazon.com/3Doodler-Plastic-Innova...</td>\n",
       "      <td>Y</td>\n",
       "    </tr>\n",
       "    <tr>\n",
       "      <th>3</th>\n",
       "      <td>4.0</td>\n",
       "      <td>18018b6bc416dab347b1b7db79994afa</td>\n",
       "      <td>view</td>\n",
       "      <td>13/10/2023 8:00</td>\n",
       "      <td>13/10/2023</td>\n",
       "      <td>8:00</td>\n",
       "      <td>21</td>\n",
       "      <td>Male</td>\n",
       "      <td>Sandals</td>\n",
       "      <td>Footwear</td>\n",
       "      <td>...</td>\n",
       "      <td>Weekly</td>\n",
       "      <td>18018b6bc416dab347b1b7db79994afa</td>\n",
       "      <td>Guillow Airplane Design Studio with Travel Cas...</td>\n",
       "      <td>Toys &amp; Games | Hobbies | Models &amp; Model Kits |...</td>\n",
       "      <td>$28.91</td>\n",
       "      <td>Make 8 different Planes at one time. | Experim...</td>\n",
       "      <td>Go to your orders and start the return Select ...</td>\n",
       "      <td>https://images-na.ssl-images-amazon.com/images...</td>\n",
       "      <td>https://www.amazon.com/Guillow-Airplane-Design...</td>\n",
       "      <td>Y</td>\n",
       "    </tr>\n",
       "    <tr>\n",
       "      <th>4</th>\n",
       "      <td>5.0</td>\n",
       "      <td>e04b990e95bf73bbe6a3fa09785d7cd0</td>\n",
       "      <td>like</td>\n",
       "      <td>14/10/2023 8:00</td>\n",
       "      <td>14/10/2023</td>\n",
       "      <td>8:00</td>\n",
       "      <td>45</td>\n",
       "      <td>Male</td>\n",
       "      <td>Blouse</td>\n",
       "      <td>Clothing</td>\n",
       "      <td>...</td>\n",
       "      <td>Annually</td>\n",
       "      <td>e04b990e95bf73bbe6a3fa09785d7cd0</td>\n",
       "      <td>Woodstock- Collage 500 pc Puzzle</td>\n",
       "      <td>Toys &amp; Games | Puzzles | Jigsaw Puzzles</td>\n",
       "      <td>$17.49</td>\n",
       "      <td>Make sure this fits by entering your model num...</td>\n",
       "      <td>show up to 2 reviews by default 100% Officiall...</td>\n",
       "      <td>https://images-na.ssl-images-amazon.com/images...</td>\n",
       "      <td>https://www.amazon.com/Woodstock-Collage-500-p...</td>\n",
       "      <td>Y</td>\n",
       "    </tr>\n",
       "    <tr>\n",
       "      <th>...</th>\n",
       "      <td>...</td>\n",
       "      <td>...</td>\n",
       "      <td>...</td>\n",
       "      <td>...</td>\n",
       "      <td>...</td>\n",
       "      <td>...</td>\n",
       "      <td>...</td>\n",
       "      <td>...</td>\n",
       "      <td>...</td>\n",
       "      <td>...</td>\n",
       "      <td>...</td>\n",
       "      <td>...</td>\n",
       "      <td>...</td>\n",
       "      <td>...</td>\n",
       "      <td>...</td>\n",
       "      <td>...</td>\n",
       "      <td>...</td>\n",
       "      <td>...</td>\n",
       "      <td>...</td>\n",
       "      <td>...</td>\n",
       "      <td>...</td>\n",
       "    </tr>\n",
       "    <tr>\n",
       "      <th>2994</th>\n",
       "      <td>2995.0</td>\n",
       "      <td>f5149cfb8e04d7b30bd7b4eaed6713b8</td>\n",
       "      <td>like</td>\n",
       "      <td>15/12/2023 8:00</td>\n",
       "      <td>15/12/2023</td>\n",
       "      <td>8:00</td>\n",
       "      <td>69</td>\n",
       "      <td>Female</td>\n",
       "      <td>Sweater</td>\n",
       "      <td>Clothing</td>\n",
       "      <td>...</td>\n",
       "      <td>Quarterly</td>\n",
       "      <td>f5149cfb8e04d7b30bd7b4eaed6713b8</td>\n",
       "      <td>Bandito MT 2.8 1/10 RC Monster Truck Tires wit...</td>\n",
       "      <td>Toys &amp; Games | Hobbies | Remote &amp; App Controll...</td>\n",
       "      <td>$27.31</td>\n",
       "      <td>Make sure this fits by entering your model num...</td>\n",
       "      <td>Size:Mounted, 1/2\" Offset  |  Style:Bandito  |...</td>\n",
       "      <td>https://images-na.ssl-images-amazon.com/images...</td>\n",
       "      <td>https://www.amazon.com/Duratrax-Bandito-Monste...</td>\n",
       "      <td>Y</td>\n",
       "    </tr>\n",
       "    <tr>\n",
       "      <th>2995</th>\n",
       "      <td>2996.0</td>\n",
       "      <td>82318e8acf79bbeb3cf685a2732fb630</td>\n",
       "      <td>view</td>\n",
       "      <td>16/12/2023 8:00</td>\n",
       "      <td>16/12/2023</td>\n",
       "      <td>8:00</td>\n",
       "      <td>29</td>\n",
       "      <td>Female</td>\n",
       "      <td>Jeans</td>\n",
       "      <td>Clothing</td>\n",
       "      <td>...</td>\n",
       "      <td>Bi-Weekly</td>\n",
       "      <td>82318e8acf79bbeb3cf685a2732fb630</td>\n",
       "      <td>Steiff Baby Teddy &amp; Me Teddy Bear Boy with Paj...</td>\n",
       "      <td>Toys &amp; Games | Stuffed Animals &amp; Plush Toys | ...</td>\n",
       "      <td>$45.95</td>\n",
       "      <td>Make sure this fits by entering your model num...</td>\n",
       "      <td>Go to your orders and start the return Select ...</td>\n",
       "      <td>https://images-na.ssl-images-amazon.com/images...</td>\n",
       "      <td>https://www.amazon.com/Steiff-Baby-Teddy-Pajam...</td>\n",
       "      <td>Y</td>\n",
       "    </tr>\n",
       "    <tr>\n",
       "      <th>2996</th>\n",
       "      <td>2997.0</td>\n",
       "      <td>19d150365d798db47cccf1622b6ad754</td>\n",
       "      <td>purchase</td>\n",
       "      <td>17/12/2023 8:00</td>\n",
       "      <td>17/12/2023</td>\n",
       "      <td>8:00</td>\n",
       "      <td>70</td>\n",
       "      <td>Female</td>\n",
       "      <td>Jewelry</td>\n",
       "      <td>Accessories</td>\n",
       "      <td>...</td>\n",
       "      <td>Every 3 Months</td>\n",
       "      <td>19d150365d798db47cccf1622b6ad754</td>\n",
       "      <td>uxcell 1500 A12121200ux0003-10000RPM DC3-12V H...</td>\n",
       "      <td>Toys &amp; Games | Hobbies | Remote &amp; App Controll...</td>\n",
       "      <td>$5.33</td>\n",
       "      <td>Hand Wash in Cold Water. | Line Dry. | No Bleach.</td>\n",
       "      <td>Go to your orders and start the return Select ...</td>\n",
       "      <td>https://images-na.ssl-images-amazon.com/images...</td>\n",
       "      <td>https://www.amazon.com/a12121200ux0003-10000RP...</td>\n",
       "      <td>Y</td>\n",
       "    </tr>\n",
       "    <tr>\n",
       "      <th>2997</th>\n",
       "      <td>2998.0</td>\n",
       "      <td>136c0aff3ab56bd3d138775fe90ef970</td>\n",
       "      <td>view</td>\n",
       "      <td>18/12/2023 8:00</td>\n",
       "      <td>18/12/2023</td>\n",
       "      <td>8:00</td>\n",
       "      <td>41</td>\n",
       "      <td>Female</td>\n",
       "      <td>Sweater</td>\n",
       "      <td>Clothing</td>\n",
       "      <td>...</td>\n",
       "      <td>Every 3 Months</td>\n",
       "      <td>136c0aff3ab56bd3d138775fe90ef970</td>\n",
       "      <td>Zvezda 5023 - 1/72 German King Tiger Ausf B He...</td>\n",
       "      <td>Toys &amp; Games | Hobbies | Models &amp; Model Kits |...</td>\n",
       "      <td>$14.90</td>\n",
       "      <td>Make sure this fits by entering your model num...</td>\n",
       "      <td>Go to your orders and start the return Select ...</td>\n",
       "      <td>https://images-na.ssl-images-amazon.com/images...</td>\n",
       "      <td>https://www.amazon.com/German-Tiger-Henschel-T...</td>\n",
       "      <td>Y</td>\n",
       "    </tr>\n",
       "    <tr>\n",
       "      <th>2998</th>\n",
       "      <td>2999.0</td>\n",
       "      <td>a2c6dd69f022a658c5bcc2b3b52970f2</td>\n",
       "      <td>like</td>\n",
       "      <td>19/12/2023 8:00</td>\n",
       "      <td>19/12/2023</td>\n",
       "      <td>8:00</td>\n",
       "      <td>31</td>\n",
       "      <td>Female</td>\n",
       "      <td>Hoodie</td>\n",
       "      <td>Clothing</td>\n",
       "      <td>...</td>\n",
       "      <td>Quarterly</td>\n",
       "      <td>a2c6dd69f022a658c5bcc2b3b52970f2</td>\n",
       "      <td>DC Comics Shazam! Eugene Action Figure</td>\n",
       "      <td>Toys &amp; Games | Toy Figures &amp; Playsets | Action...</td>\n",
       "      <td>$9.44</td>\n",
       "      <td>Make sure this fits by entering your model num...</td>\n",
       "      <td>Style:Eugene show up to 2 reviews by default R...</td>\n",
       "      <td>https://images-na.ssl-images-amazon.com/images...</td>\n",
       "      <td>https://www.amazon.com/DC-Comics-Shazam-Eugene...</td>\n",
       "      <td>Y</td>\n",
       "    </tr>\n",
       "  </tbody>\n",
       "</table>\n",
       "<p>2999 rows × 32 columns</p>\n",
       "</div>"
      ],
      "text/plain": [
       "      user id                        product id Interaction type  \\\n",
       "0         1.0  4c69b61db1fc16e7013b43fc926e502d         purchase   \n",
       "1         2.0  66d49bbed043f5be260fa9f7fbff5957             view   \n",
       "2         3.0  2c55cae269aebf53838484b0d7dd931a             like   \n",
       "3         4.0  18018b6bc416dab347b1b7db79994afa             view   \n",
       "4         5.0  e04b990e95bf73bbe6a3fa09785d7cd0             like   \n",
       "...       ...                               ...              ...   \n",
       "2994   2995.0  f5149cfb8e04d7b30bd7b4eaed6713b8             like   \n",
       "2995   2996.0  82318e8acf79bbeb3cf685a2732fb630             view   \n",
       "2996   2997.0  19d150365d798db47cccf1622b6ad754         purchase   \n",
       "2997   2998.0  136c0aff3ab56bd3d138775fe90ef970             view   \n",
       "2998   2999.0  a2c6dd69f022a658c5bcc2b3b52970f2             like   \n",
       "\n",
       "           Time stamp        Date  Time  Age  Gender Item Purchased  \\\n",
       "0     10/10/2023 8:00  10/10/2023  8:00   55    Male         Blouse   \n",
       "1     11/10/2023 8:00  11/10/2023  8:00   19    Male        Sweater   \n",
       "2     12/10/2023 8:00  12/10/2023  8:00   50    Male          Jeans   \n",
       "3     13/10/2023 8:00  13/10/2023  8:00   21    Male        Sandals   \n",
       "4     14/10/2023 8:00  14/10/2023  8:00   45    Male         Blouse   \n",
       "...               ...         ...   ...  ...     ...            ...   \n",
       "2994  15/12/2023 8:00  15/12/2023  8:00   69  Female        Sweater   \n",
       "2995  16/12/2023 8:00  16/12/2023  8:00   29  Female          Jeans   \n",
       "2996  17/12/2023 8:00  17/12/2023  8:00   70  Female        Jewelry   \n",
       "2997  18/12/2023 8:00  18/12/2023  8:00   41  Female        Sweater   \n",
       "2998  19/12/2023 8:00  19/12/2023  8:00   31  Female         Hoodie   \n",
       "\n",
       "       Category_x  ...  Frequency of Purchases  \\\n",
       "0        Clothing  ...             Fortnightly   \n",
       "1        Clothing  ...             Fortnightly   \n",
       "2        Clothing  ...                  Weekly   \n",
       "3        Footwear  ...                  Weekly   \n",
       "4        Clothing  ...                Annually   \n",
       "...           ...  ...                     ...   \n",
       "2994     Clothing  ...               Quarterly   \n",
       "2995     Clothing  ...               Bi-Weekly   \n",
       "2996  Accessories  ...          Every 3 Months   \n",
       "2997     Clothing  ...          Every 3 Months   \n",
       "2998     Clothing  ...               Quarterly   \n",
       "\n",
       "                              Uniqe Id  \\\n",
       "0     4c69b61db1fc16e7013b43fc926e502d   \n",
       "1     66d49bbed043f5be260fa9f7fbff5957   \n",
       "2     2c55cae269aebf53838484b0d7dd931a   \n",
       "3     18018b6bc416dab347b1b7db79994afa   \n",
       "4     e04b990e95bf73bbe6a3fa09785d7cd0   \n",
       "...                                ...   \n",
       "2994  f5149cfb8e04d7b30bd7b4eaed6713b8   \n",
       "2995  82318e8acf79bbeb3cf685a2732fb630   \n",
       "2996  19d150365d798db47cccf1622b6ad754   \n",
       "2997  136c0aff3ab56bd3d138775fe90ef970   \n",
       "2998  a2c6dd69f022a658c5bcc2b3b52970f2   \n",
       "\n",
       "                                           Product Name  \\\n",
       "0     DB Longboards CoreFlex Crossbow 41\" Bamboo Fib...   \n",
       "1     Electronic Snap Circuits Mini Kits Classpack, ...   \n",
       "2     3Doodler Create Flexy 3D Printing Filament Ref...   \n",
       "3     Guillow Airplane Design Studio with Travel Cas...   \n",
       "4                      Woodstock- Collage 500 pc Puzzle   \n",
       "...                                                 ...   \n",
       "2994  Bandito MT 2.8 1/10 RC Monster Truck Tires wit...   \n",
       "2995  Steiff Baby Teddy & Me Teddy Bear Boy with Paj...   \n",
       "2996  uxcell 1500 A12121200ux0003-10000RPM DC3-12V H...   \n",
       "2997  Zvezda 5023 - 1/72 German King Tiger Ausf B He...   \n",
       "2998             DC Comics Shazam! Eugene Action Figure   \n",
       "\n",
       "                                             Category_y Selling Price  \\\n",
       "0     Sports & Outdoors | Outdoor Recreation | Skate...       $237.68   \n",
       "1     Toys & Games | Learning & Education | Science ...        $99.95   \n",
       "2             Toys & Games | Arts & Crafts | Craft Kits        $34.99   \n",
       "3     Toys & Games | Hobbies | Models & Model Kits |...        $28.91   \n",
       "4               Toys & Games | Puzzles | Jigsaw Puzzles        $17.49   \n",
       "...                                                 ...           ...   \n",
       "2994  Toys & Games | Hobbies | Remote & App Controll...        $27.31   \n",
       "2995  Toys & Games | Stuffed Animals & Plush Toys | ...        $45.95   \n",
       "2996  Toys & Games | Hobbies | Remote & App Controll...         $5.33   \n",
       "2997  Toys & Games | Hobbies | Models & Model Kits |...        $14.90   \n",
       "2998  Toys & Games | Toy Figures & Playsets | Action...         $9.44   \n",
       "\n",
       "                                          About Product  \\\n",
       "0     Make sure this fits by entering your model num...   \n",
       "1     Make sure this fits by entering your model num...   \n",
       "2     Make sure this fits by entering your model num...   \n",
       "3     Make 8 different Planes at one time. | Experim...   \n",
       "4     Make sure this fits by entering your model num...   \n",
       "...                                                 ...   \n",
       "2994  Make sure this fits by entering your model num...   \n",
       "2995  Make sure this fits by entering your model num...   \n",
       "2996  Hand Wash in Cold Water. | Line Dry. | No Bleach.   \n",
       "2997  Make sure this fits by entering your model num...   \n",
       "2998  Make sure this fits by entering your model num...   \n",
       "\n",
       "                                      Technical Details  \\\n",
       "0     Go to your orders and start the return Select ...   \n",
       "1     The snap circuits mini kits classpack provides...   \n",
       "2     show up to 2 reviews by default No longer are ...   \n",
       "3     Go to your orders and start the return Select ...   \n",
       "4     show up to 2 reviews by default 100% Officiall...   \n",
       "...                                                 ...   \n",
       "2994  Size:Mounted, 1/2\" Offset  |  Style:Bandito  |...   \n",
       "2995  Go to your orders and start the return Select ...   \n",
       "2996  Go to your orders and start the return Select ...   \n",
       "2997  Go to your orders and start the return Select ...   \n",
       "2998  Style:Eugene show up to 2 reviews by default R...   \n",
       "\n",
       "                                                  Image  \\\n",
       "0     https://images-na.ssl-images-amazon.com/images...   \n",
       "1     https://images-na.ssl-images-amazon.com/images...   \n",
       "2     https://images-na.ssl-images-amazon.com/images...   \n",
       "3     https://images-na.ssl-images-amazon.com/images...   \n",
       "4     https://images-na.ssl-images-amazon.com/images...   \n",
       "...                                                 ...   \n",
       "2994  https://images-na.ssl-images-amazon.com/images...   \n",
       "2995  https://images-na.ssl-images-amazon.com/images...   \n",
       "2996  https://images-na.ssl-images-amazon.com/images...   \n",
       "2997  https://images-na.ssl-images-amazon.com/images...   \n",
       "2998  https://images-na.ssl-images-amazon.com/images...   \n",
       "\n",
       "                                            Product Url Is Amazon Seller  \n",
       "0     https://www.amazon.com/DB-Longboards-CoreFlex-...                Y  \n",
       "1     https://www.amazon.com/Electronic-Circuits-Cla...                Y  \n",
       "2     https://www.amazon.com/3Doodler-Plastic-Innova...                Y  \n",
       "3     https://www.amazon.com/Guillow-Airplane-Design...                Y  \n",
       "4     https://www.amazon.com/Woodstock-Collage-500-p...                Y  \n",
       "...                                                 ...              ...  \n",
       "2994  https://www.amazon.com/Duratrax-Bandito-Monste...                Y  \n",
       "2995  https://www.amazon.com/Steiff-Baby-Teddy-Pajam...                Y  \n",
       "2996  https://www.amazon.com/a12121200ux0003-10000RP...                Y  \n",
       "2997  https://www.amazon.com/German-Tiger-Henschel-T...                Y  \n",
       "2998  https://www.amazon.com/DC-Comics-Shazam-Eugene...                Y  \n",
       "\n",
       "[2999 rows x 32 columns]"
      ]
     },
     "execution_count": 30,
     "metadata": {},
     "output_type": "execute_result"
    }
   ],
   "source": [
    "merged_data = pd.merge(sales_data, customer_data, on='user id', how='inner')\n",
    "merged_data = pd.merge(merged_data, products_data, left_on='product id', right_on='Uniqe Id', how='left')\n",
    "merged_data"
   ]
  },
  {
   "cell_type": "code",
   "execution_count": 31,
   "id": "2437167f",
   "metadata": {},
   "outputs": [
    {
     "name": "stdout",
     "output_type": "stream",
     "text": [
      "The 'Uniqe Id' and 'product id' are identical for every row.\n"
     ]
    }
   ],
   "source": [
    "identical_ids = (merged_data['Uniqe Id'] == merged_data['product id']).all()\n",
    "\n",
    "if identical_ids:\n",
    "    print(\"The 'Uniqe Id' and 'product id' are identical for every row.\")\n",
    "else:\n",
    "    print(\"There are discrepancies between 'Uniqe Id' and 'product id'.\")"
   ]
  },
  {
   "cell_type": "code",
   "execution_count": 32,
   "id": "0c46fb73",
   "metadata": {},
   "outputs": [
    {
     "name": "stderr",
     "output_type": "stream",
     "text": [
      "/tmp/ipykernel_2885/3459367398.py:3: FutureWarning: The default value of regex will change from True to False in a future version. In addition, single character regular expressions will *not* be treated as literal strings when regex=True.\n",
      "  merged_data['Selling Price'] = merged_data['Selling Price'].str.replace('$', '')\n"
     ]
    },
    {
     "data": {
      "text/html": [
       "<div>\n",
       "<style scoped>\n",
       "    .dataframe tbody tr th:only-of-type {\n",
       "        vertical-align: middle;\n",
       "    }\n",
       "\n",
       "    .dataframe tbody tr th {\n",
       "        vertical-align: top;\n",
       "    }\n",
       "\n",
       "    .dataframe thead th {\n",
       "        text-align: right;\n",
       "    }\n",
       "</style>\n",
       "<table border=\"1\" class=\"dataframe\">\n",
       "  <thead>\n",
       "    <tr style=\"text-align: right;\">\n",
       "      <th></th>\n",
       "      <th>Selling Price</th>\n",
       "    </tr>\n",
       "  </thead>\n",
       "  <tbody>\n",
       "    <tr>\n",
       "      <th>0</th>\n",
       "      <td>237.68</td>\n",
       "    </tr>\n",
       "    <tr>\n",
       "      <th>1</th>\n",
       "      <td>99.95</td>\n",
       "    </tr>\n",
       "    <tr>\n",
       "      <th>2</th>\n",
       "      <td>34.99</td>\n",
       "    </tr>\n",
       "    <tr>\n",
       "      <th>3</th>\n",
       "      <td>28.91</td>\n",
       "    </tr>\n",
       "    <tr>\n",
       "      <th>4</th>\n",
       "      <td>17.49</td>\n",
       "    </tr>\n",
       "    <tr>\n",
       "      <th>...</th>\n",
       "      <td>...</td>\n",
       "    </tr>\n",
       "    <tr>\n",
       "      <th>2994</th>\n",
       "      <td>27.31</td>\n",
       "    </tr>\n",
       "    <tr>\n",
       "      <th>2995</th>\n",
       "      <td>45.95</td>\n",
       "    </tr>\n",
       "    <tr>\n",
       "      <th>2996</th>\n",
       "      <td>5.33</td>\n",
       "    </tr>\n",
       "    <tr>\n",
       "      <th>2997</th>\n",
       "      <td>14.90</td>\n",
       "    </tr>\n",
       "    <tr>\n",
       "      <th>2998</th>\n",
       "      <td>9.44</td>\n",
       "    </tr>\n",
       "  </tbody>\n",
       "</table>\n",
       "<p>2999 rows × 1 columns</p>\n",
       "</div>"
      ],
      "text/plain": [
       "     Selling Price\n",
       "0           237.68\n",
       "1            99.95\n",
       "2            34.99\n",
       "3            28.91\n",
       "4            17.49\n",
       "...            ...\n",
       "2994         27.31\n",
       "2995         45.95\n",
       "2996          5.33\n",
       "2997         14.90\n",
       "2998          9.44\n",
       "\n",
       "[2999 rows x 1 columns]"
      ]
     },
     "execution_count": 32,
     "metadata": {},
     "output_type": "execute_result"
    }
   ],
   "source": [
    "#Remove the duplicated 'Uniqe Id' column\n",
    "merged_data.drop(columns='Uniqe Id', inplace=True)\n",
    "merged_data['Selling Price'] = merged_data['Selling Price'].str.replace('$', '')\n",
    "merged_data[['Selling Price']]"
   ]
  },
  {
   "cell_type": "code",
   "execution_count": 33,
   "id": "5552dc2e",
   "metadata": {},
   "outputs": [],
   "source": [
    "#merged_data = pd.merge(sales_data, customer_data, left_on='user id', right_on='Customer ID', how='left')\n",
    "#merged_data = pd.merge(merged_data, products_data, left_on='product id', right_on='Uniqe Id', how='left')\n",
    "#merged_data"
   ]
  },
  {
   "cell_type": "code",
   "execution_count": 34,
   "id": "fa30013e",
   "metadata": {},
   "outputs": [],
   "source": [
    "import re\n",
    "import pandas as pd\n",
    "import numpy as np\n",
    "\n",
    "# Step 1: Remove strange characters and spaces\n",
    "def clean_price(price):\n",
    "    # Check if the value is NaN\n",
    "    if pd.isna(price):\n",
    "        return np.nan\n",
    "    # Remove non-numeric characters and spaces\n",
    "    price = re.sub(r'[^0-9.]', '', str(price))\n",
    "    return price\n",
    "\n",
    "# Clean 'Selling Price' column\n",
    "merged_data['Selling Price'] = merged_data['Selling Price'].apply(clean_price)\n",
    "\n",
    "# Step 2: Convert to numeric\n",
    "merged_data['Selling Price'] = pd.to_numeric(merged_data['Selling Price'], errors='coerce')  # 'coerce' to handle any conversion errors"
   ]
  },
  {
   "cell_type": "code",
   "execution_count": 35,
   "id": "cb22ab39",
   "metadata": {
    "scrolled": false
   },
   "outputs": [
    {
     "name": "stdout",
     "output_type": "stream",
     "text": [
      "<class 'pandas.core.frame.DataFrame'>\n",
      "Int64Index: 2999 entries, 0 to 2998\n",
      "Data columns (total 31 columns):\n",
      " #   Column                  Non-Null Count  Dtype  \n",
      "---  ------                  --------------  -----  \n",
      " 0   user id                 2999 non-null   float64\n",
      " 1   product id              2999 non-null   object \n",
      " 2   Interaction type        2871 non-null   object \n",
      " 3   Time stamp              2999 non-null   object \n",
      " 4   Date                    2999 non-null   object \n",
      " 5   Time                    2999 non-null   object \n",
      " 6   Age                     2999 non-null   int64  \n",
      " 7   Gender                  2999 non-null   object \n",
      " 8   Item Purchased          2999 non-null   object \n",
      " 9   Category_x              2999 non-null   object \n",
      " 10  Purchase Amount (USD)   2999 non-null   int64  \n",
      " 11  Location                2999 non-null   object \n",
      " 12  Size                    2999 non-null   object \n",
      " 13  Color                   2999 non-null   object \n",
      " 14  Season                  2999 non-null   object \n",
      " 15  Review Rating           2999 non-null   float64\n",
      " 16  Subscription Status     2999 non-null   object \n",
      " 17  Shipping Type           2999 non-null   object \n",
      " 18  Discount Applied        2999 non-null   object \n",
      " 19  Promo Code Used         2999 non-null   object \n",
      " 20  Previous Purchases      2999 non-null   int64  \n",
      " 21  Payment Method          2999 non-null   object \n",
      " 22  Frequency of Purchases  2999 non-null   object \n",
      " 23  Product Name            2999 non-null   object \n",
      " 24  Category_y              2999 non-null   object \n",
      " 25  Selling Price           2913 non-null   float64\n",
      " 26  About Product           2999 non-null   object \n",
      " 27  Technical Details       2999 non-null   object \n",
      " 28  Image                   2999 non-null   object \n",
      " 29  Product Url             2999 non-null   object \n",
      " 30  Is Amazon Seller        2999 non-null   object \n",
      "dtypes: float64(3), int64(3), object(25)\n",
      "memory usage: 749.8+ KB\n"
     ]
    }
   ],
   "source": [
    "merged_data.info()"
   ]
  },
  {
   "cell_type": "code",
   "execution_count": 36,
   "id": "846253cc",
   "metadata": {},
   "outputs": [
    {
     "data": {
      "text/plain": [
       "<bound method Series.unique of 0       237.68\n",
       "1        99.95\n",
       "2        34.99\n",
       "3        28.91\n",
       "4        17.49\n",
       "         ...  \n",
       "2994     27.31\n",
       "2995     45.95\n",
       "2996      5.33\n",
       "2997     14.90\n",
       "2998      9.44\n",
       "Name: Selling Price, Length: 2999, dtype: float64>"
      ]
     },
     "execution_count": 36,
     "metadata": {},
     "output_type": "execute_result"
    }
   ],
   "source": [
    "merged_data['Selling Price'].unique"
   ]
  },
  {
   "cell_type": "code",
   "execution_count": 37,
   "id": "39beb160",
   "metadata": {},
   "outputs": [
    {
     "name": "stdout",
     "output_type": "stream",
     "text": [
      "Outliers: Series([], Name: Selling Price, dtype: float64)\n"
     ]
    }
   ],
   "source": [
    "import numpy as np\n",
    "\n",
    "# Calculate quartiles\n",
    "Q1 = np.percentile(merged_data['Selling Price'], 25)\n",
    "Q3 = np.percentile(merged_data['Selling Price'], 75)\n",
    "\n",
    "# Calculate IQR\n",
    "IQR = Q3 - Q1\n",
    "\n",
    "# Define threshold for outliers\n",
    "threshold = 1.5 * IQR\n",
    "\n",
    "# Identify outliers\n",
    "outliers = merged_data['Selling Price'][(merged_data['Selling Price'] < Q1 - threshold) | (merged_data['Selling Price'] > Q3 + threshold)]\n",
    "\n",
    "print(\"Outliers:\", outliers)"
   ]
  },
  {
   "cell_type": "code",
   "execution_count": 38,
   "id": "3ebdd7fc",
   "metadata": {
    "scrolled": true
   },
   "outputs": [
    {
     "data": {
      "text/html": [
       "<div>\n",
       "<style scoped>\n",
       "    .dataframe tbody tr th:only-of-type {\n",
       "        vertical-align: middle;\n",
       "    }\n",
       "\n",
       "    .dataframe tbody tr th {\n",
       "        vertical-align: top;\n",
       "    }\n",
       "\n",
       "    .dataframe thead th {\n",
       "        text-align: right;\n",
       "    }\n",
       "</style>\n",
       "<table border=\"1\" class=\"dataframe\">\n",
       "  <thead>\n",
       "    <tr style=\"text-align: right;\">\n",
       "      <th></th>\n",
       "      <th>Uniqe Id</th>\n",
       "      <th>Product Name</th>\n",
       "      <th>Category</th>\n",
       "      <th>Selling Price</th>\n",
       "      <th>About Product</th>\n",
       "      <th>Technical Details</th>\n",
       "      <th>Image</th>\n",
       "      <th>Product Url</th>\n",
       "      <th>Is Amazon Seller</th>\n",
       "    </tr>\n",
       "  </thead>\n",
       "  <tbody>\n",
       "    <tr>\n",
       "      <th>0</th>\n",
       "      <td>4c69b61db1fc16e7013b43fc926e502d</td>\n",
       "      <td>DB Longboards CoreFlex Crossbow 41\" Bamboo Fib...</td>\n",
       "      <td>Sports &amp; Outdoors | Outdoor Recreation | Skate...</td>\n",
       "      <td>$237.68</td>\n",
       "      <td>Make sure this fits by entering your model num...</td>\n",
       "      <td>Go to your orders and start the return Select ...</td>\n",
       "      <td>https://images-na.ssl-images-amazon.com/images...</td>\n",
       "      <td>https://www.amazon.com/DB-Longboards-CoreFlex-...</td>\n",
       "      <td>Y</td>\n",
       "    </tr>\n",
       "    <tr>\n",
       "      <th>1</th>\n",
       "      <td>66d49bbed043f5be260fa9f7fbff5957</td>\n",
       "      <td>Electronic Snap Circuits Mini Kits Classpack, ...</td>\n",
       "      <td>Toys &amp; Games | Learning &amp; Education | Science ...</td>\n",
       "      <td>$99.95</td>\n",
       "      <td>Make sure this fits by entering your model num...</td>\n",
       "      <td>The snap circuits mini kits classpack provides...</td>\n",
       "      <td>https://images-na.ssl-images-amazon.com/images...</td>\n",
       "      <td>https://www.amazon.com/Electronic-Circuits-Cla...</td>\n",
       "      <td>Y</td>\n",
       "    </tr>\n",
       "    <tr>\n",
       "      <th>2</th>\n",
       "      <td>2c55cae269aebf53838484b0d7dd931a</td>\n",
       "      <td>3Doodler Create Flexy 3D Printing Filament Ref...</td>\n",
       "      <td>Toys &amp; Games | Arts &amp; Crafts | Craft Kits</td>\n",
       "      <td>$34.99</td>\n",
       "      <td>Make sure this fits by entering your model num...</td>\n",
       "      <td>show up to 2 reviews by default No longer are ...</td>\n",
       "      <td>https://images-na.ssl-images-amazon.com/images...</td>\n",
       "      <td>https://www.amazon.com/3Doodler-Plastic-Innova...</td>\n",
       "      <td>Y</td>\n",
       "    </tr>\n",
       "    <tr>\n",
       "      <th>3</th>\n",
       "      <td>18018b6bc416dab347b1b7db79994afa</td>\n",
       "      <td>Guillow Airplane Design Studio with Travel Cas...</td>\n",
       "      <td>Toys &amp; Games | Hobbies | Models &amp; Model Kits |...</td>\n",
       "      <td>$28.91</td>\n",
       "      <td>Make 8 different Planes at one time. | Experim...</td>\n",
       "      <td>Go to your orders and start the return Select ...</td>\n",
       "      <td>https://images-na.ssl-images-amazon.com/images...</td>\n",
       "      <td>https://www.amazon.com/Guillow-Airplane-Design...</td>\n",
       "      <td>Y</td>\n",
       "    </tr>\n",
       "    <tr>\n",
       "      <th>4</th>\n",
       "      <td>e04b990e95bf73bbe6a3fa09785d7cd0</td>\n",
       "      <td>Woodstock- Collage 500 pc Puzzle</td>\n",
       "      <td>Toys &amp; Games | Puzzles | Jigsaw Puzzles</td>\n",
       "      <td>$17.49</td>\n",
       "      <td>Make sure this fits by entering your model num...</td>\n",
       "      <td>show up to 2 reviews by default 100% Officiall...</td>\n",
       "      <td>https://images-na.ssl-images-amazon.com/images...</td>\n",
       "      <td>https://www.amazon.com/Woodstock-Collage-500-p...</td>\n",
       "      <td>Y</td>\n",
       "    </tr>\n",
       "  </tbody>\n",
       "</table>\n",
       "</div>"
      ],
      "text/plain": [
       "                           Uniqe Id  \\\n",
       "0  4c69b61db1fc16e7013b43fc926e502d   \n",
       "1  66d49bbed043f5be260fa9f7fbff5957   \n",
       "2  2c55cae269aebf53838484b0d7dd931a   \n",
       "3  18018b6bc416dab347b1b7db79994afa   \n",
       "4  e04b990e95bf73bbe6a3fa09785d7cd0   \n",
       "\n",
       "                                        Product Name  \\\n",
       "0  DB Longboards CoreFlex Crossbow 41\" Bamboo Fib...   \n",
       "1  Electronic Snap Circuits Mini Kits Classpack, ...   \n",
       "2  3Doodler Create Flexy 3D Printing Filament Ref...   \n",
       "3  Guillow Airplane Design Studio with Travel Cas...   \n",
       "4                   Woodstock- Collage 500 pc Puzzle   \n",
       "\n",
       "                                            Category Selling Price  \\\n",
       "0  Sports & Outdoors | Outdoor Recreation | Skate...       $237.68   \n",
       "1  Toys & Games | Learning & Education | Science ...        $99.95   \n",
       "2          Toys & Games | Arts & Crafts | Craft Kits        $34.99   \n",
       "3  Toys & Games | Hobbies | Models & Model Kits |...        $28.91   \n",
       "4            Toys & Games | Puzzles | Jigsaw Puzzles        $17.49   \n",
       "\n",
       "                                       About Product  \\\n",
       "0  Make sure this fits by entering your model num...   \n",
       "1  Make sure this fits by entering your model num...   \n",
       "2  Make sure this fits by entering your model num...   \n",
       "3  Make 8 different Planes at one time. | Experim...   \n",
       "4  Make sure this fits by entering your model num...   \n",
       "\n",
       "                                   Technical Details  \\\n",
       "0  Go to your orders and start the return Select ...   \n",
       "1  The snap circuits mini kits classpack provides...   \n",
       "2  show up to 2 reviews by default No longer are ...   \n",
       "3  Go to your orders and start the return Select ...   \n",
       "4  show up to 2 reviews by default 100% Officiall...   \n",
       "\n",
       "                                               Image  \\\n",
       "0  https://images-na.ssl-images-amazon.com/images...   \n",
       "1  https://images-na.ssl-images-amazon.com/images...   \n",
       "2  https://images-na.ssl-images-amazon.com/images...   \n",
       "3  https://images-na.ssl-images-amazon.com/images...   \n",
       "4  https://images-na.ssl-images-amazon.com/images...   \n",
       "\n",
       "                                         Product Url Is Amazon Seller  \n",
       "0  https://www.amazon.com/DB-Longboards-CoreFlex-...                Y  \n",
       "1  https://www.amazon.com/Electronic-Circuits-Cla...                Y  \n",
       "2  https://www.amazon.com/3Doodler-Plastic-Innova...                Y  \n",
       "3  https://www.amazon.com/Guillow-Airplane-Design...                Y  \n",
       "4  https://www.amazon.com/Woodstock-Collage-500-p...                Y  "
      ]
     },
     "execution_count": 38,
     "metadata": {},
     "output_type": "execute_result"
    }
   ],
   "source": [
    "products_data.head()"
   ]
  },
  {
   "cell_type": "markdown",
   "id": "f9bbac65",
   "metadata": {},
   "source": [
    "# The TF-IDF Matrix :"
   ]
  },
  {
   "cell_type": "code",
   "execution_count": null,
   "id": "00ed9185",
   "metadata": {},
   "outputs": [],
   "source": [
    "#products_data[\"Product_Description\"] = products_data[\"Product_Description\"].str.replace(r\"[^\\w\\s]\", \" \", regex=True).str.replace(r\"[\\d]\", \" \", regex=True)"
   ]
  },
  {
   "cell_type": "code",
   "execution_count": null,
   "id": "c240d3de",
   "metadata": {},
   "outputs": [],
   "source": []
  },
  {
   "cell_type": "code",
   "execution_count": 39,
   "id": "6349c2ca",
   "metadata": {},
   "outputs": [],
   "source": [
    "tfidf = TfidfVectorizer(stop_words=\"english\", min_df=4)"
   ]
  },
  {
   "cell_type": "code",
   "execution_count": 40,
   "id": "286c7c9c",
   "metadata": {},
   "outputs": [],
   "source": [
    "tfidf_matrix = tfidf.fit_transform(products_data[\"Product Name\"])"
   ]
  },
  {
   "cell_type": "code",
   "execution_count": 41,
   "id": "a7f1e405",
   "metadata": {},
   "outputs": [
    {
     "data": {
      "text/plain": [
       "(10002, 10002)"
      ]
     },
     "execution_count": 41,
     "metadata": {},
     "output_type": "execute_result"
    }
   ],
   "source": [
    "similarity = cosine_similarity(tfidf_matrix,tfidf_matrix)\n",
    "similarity.shape"
   ]
  },
  {
   "cell_type": "code",
   "execution_count": 42,
   "id": "173d246e",
   "metadata": {},
   "outputs": [],
   "source": [
    "index = products_data[products_data[\"Uniqe Id\"] == '1a22f23576bfdfe5ed6c887dc117aab6'].index[0]\n"
   ]
  },
  {
   "cell_type": "code",
   "execution_count": 43,
   "id": "afa782c1",
   "metadata": {},
   "outputs": [],
   "source": [
    "feature_names = tfidf.get_feature_names_out()"
   ]
  },
  {
   "cell_type": "code",
   "execution_count": 44,
   "id": "deab620c",
   "metadata": {},
   "outputs": [
    {
     "data": {
      "text/plain": [
       "array([[0., 0., 0., ..., 0., 0., 0.],\n",
       "       [0., 0., 0., ..., 0., 0., 0.],\n",
       "       [0., 0., 0., ..., 0., 0., 0.],\n",
       "       ...,\n",
       "       [0., 0., 0., ..., 0., 0., 0.],\n",
       "       [0., 0., 0., ..., 0., 0., 0.],\n",
       "       [0., 0., 0., ..., 0., 0., 0.]])"
      ]
     },
     "execution_count": 44,
     "metadata": {},
     "output_type": "execute_result"
    }
   ],
   "source": [
    "tfidf_matrix.toarray()"
   ]
  },
  {
   "cell_type": "code",
   "execution_count": 45,
   "id": "d9c02c94",
   "metadata": {},
   "outputs": [],
   "source": [
    "similarity_scores = pd.DataFrame(similarity[index],\n",
    "                                  columns=[\"similarity\"])"
   ]
  },
  {
   "cell_type": "code",
   "execution_count": 46,
   "id": "66e68b51",
   "metadata": {},
   "outputs": [],
   "source": [
    "product_indices = similarity_scores.sort_values(\"similarity\", ascending=False)[1:11].index"
   ]
  },
  {
   "cell_type": "code",
   "execution_count": 47,
   "id": "cf117c8e",
   "metadata": {},
   "outputs": [
    {
     "data": {
      "text/plain": [
       "6991    Remedia Publications REM501 Addition Timed Mat...\n",
       "230     EVAN-MOOR 4545 Skill Sharpeners Math Book, Gra...\n",
       "8161    American Educational Products 480 eleMENTALS A...\n",
       "8842    On the Mark Press OTM119 Mapping Skills Activi...\n",
       "8362    On the Mark Press OTM1132 Multiplication & Div...\n",
       "4283    Constructive Playthings SVL-468 Gingerbread Ma...\n",
       "8577    Learning Advantage 4524\"Where's Wilma?\" Game, ...\n",
       "7357    Dick Martin Sports MASP12 Parachute with 12 Ha...\n",
       "7838    American Educational Products 6-740126 Koontz ...\n",
       "5741    Constructive Playthings TYE-31 Soft Flexible B...\n",
       "Name: Product Name, dtype: object"
      ]
     },
     "execution_count": 47,
     "metadata": {},
     "output_type": "execute_result"
    }
   ],
   "source": [
    "similar_product_names = products_data['Product Name'].iloc[product_indices]\n",
    "similar_product_names"
   ]
  },
  {
   "cell_type": "markdown",
   "id": "44c49aaa",
   "metadata": {},
   "source": [
    "# Model-Based Recommender System"
   ]
  },
  {
   "cell_type": "markdown",
   "id": "a3c4b4fc",
   "metadata": {},
   "source": [
    "## Baseline Model"
   ]
  },
  {
   "cell_type": "code",
   "execution_count": null,
   "id": "f5484c6e",
   "metadata": {},
   "outputs": [],
   "source": [
    "#df = merged_data[[\"user id\", \"product id\", \"Interaction type\", \"Product_Description\", \"Product Name\", \"Date\", \"Time\", 'Age', 'Gender', 'Location', 'Category_y', 'Selling Price']]"
   ]
  },
  {
   "cell_type": "code",
   "execution_count": 48,
   "id": "3eb546ca",
   "metadata": {},
   "outputs": [],
   "source": [
    "df = merged_data[['Product Name', 'Category_y', 'Selling Price', 'About Product', 'Interaction type', 'Age', 'Gender', 'Location']]"
   ]
  },
  {
   "cell_type": "code",
   "execution_count": 49,
   "id": "089975a8",
   "metadata": {},
   "outputs": [
    {
     "data": {
      "text/html": [
       "<div>\n",
       "<style scoped>\n",
       "    .dataframe tbody tr th:only-of-type {\n",
       "        vertical-align: middle;\n",
       "    }\n",
       "\n",
       "    .dataframe tbody tr th {\n",
       "        vertical-align: top;\n",
       "    }\n",
       "\n",
       "    .dataframe thead th {\n",
       "        text-align: right;\n",
       "    }\n",
       "</style>\n",
       "<table border=\"1\" class=\"dataframe\">\n",
       "  <thead>\n",
       "    <tr style=\"text-align: right;\">\n",
       "      <th></th>\n",
       "      <th>Product Name</th>\n",
       "      <th>Category_y</th>\n",
       "      <th>Selling Price</th>\n",
       "      <th>About Product</th>\n",
       "      <th>Interaction type</th>\n",
       "      <th>Age</th>\n",
       "      <th>Gender</th>\n",
       "      <th>Location</th>\n",
       "    </tr>\n",
       "  </thead>\n",
       "  <tbody>\n",
       "    <tr>\n",
       "      <th>0</th>\n",
       "      <td>DB Longboards CoreFlex Crossbow 41\" Bamboo Fib...</td>\n",
       "      <td>Sports &amp; Outdoors | Outdoor Recreation | Skate...</td>\n",
       "      <td>237.68</td>\n",
       "      <td>Make sure this fits by entering your model num...</td>\n",
       "      <td>purchase</td>\n",
       "      <td>55</td>\n",
       "      <td>Male</td>\n",
       "      <td>Kentucky</td>\n",
       "    </tr>\n",
       "    <tr>\n",
       "      <th>1</th>\n",
       "      <td>Electronic Snap Circuits Mini Kits Classpack, ...</td>\n",
       "      <td>Toys &amp; Games | Learning &amp; Education | Science ...</td>\n",
       "      <td>99.95</td>\n",
       "      <td>Make sure this fits by entering your model num...</td>\n",
       "      <td>view</td>\n",
       "      <td>19</td>\n",
       "      <td>Male</td>\n",
       "      <td>Maine</td>\n",
       "    </tr>\n",
       "    <tr>\n",
       "      <th>2</th>\n",
       "      <td>3Doodler Create Flexy 3D Printing Filament Ref...</td>\n",
       "      <td>Toys &amp; Games | Arts &amp; Crafts | Craft Kits</td>\n",
       "      <td>34.99</td>\n",
       "      <td>Make sure this fits by entering your model num...</td>\n",
       "      <td>like</td>\n",
       "      <td>50</td>\n",
       "      <td>Male</td>\n",
       "      <td>Massachusetts</td>\n",
       "    </tr>\n",
       "    <tr>\n",
       "      <th>3</th>\n",
       "      <td>Guillow Airplane Design Studio with Travel Cas...</td>\n",
       "      <td>Toys &amp; Games | Hobbies | Models &amp; Model Kits |...</td>\n",
       "      <td>28.91</td>\n",
       "      <td>Make 8 different Planes at one time. | Experim...</td>\n",
       "      <td>view</td>\n",
       "      <td>21</td>\n",
       "      <td>Male</td>\n",
       "      <td>Rhode Island</td>\n",
       "    </tr>\n",
       "    <tr>\n",
       "      <th>4</th>\n",
       "      <td>Woodstock- Collage 500 pc Puzzle</td>\n",
       "      <td>Toys &amp; Games | Puzzles | Jigsaw Puzzles</td>\n",
       "      <td>17.49</td>\n",
       "      <td>Make sure this fits by entering your model num...</td>\n",
       "      <td>like</td>\n",
       "      <td>45</td>\n",
       "      <td>Male</td>\n",
       "      <td>Oregon</td>\n",
       "    </tr>\n",
       "  </tbody>\n",
       "</table>\n",
       "</div>"
      ],
      "text/plain": [
       "                                        Product Name  \\\n",
       "0  DB Longboards CoreFlex Crossbow 41\" Bamboo Fib...   \n",
       "1  Electronic Snap Circuits Mini Kits Classpack, ...   \n",
       "2  3Doodler Create Flexy 3D Printing Filament Ref...   \n",
       "3  Guillow Airplane Design Studio with Travel Cas...   \n",
       "4                   Woodstock- Collage 500 pc Puzzle   \n",
       "\n",
       "                                          Category_y  Selling Price  \\\n",
       "0  Sports & Outdoors | Outdoor Recreation | Skate...         237.68   \n",
       "1  Toys & Games | Learning & Education | Science ...          99.95   \n",
       "2          Toys & Games | Arts & Crafts | Craft Kits          34.99   \n",
       "3  Toys & Games | Hobbies | Models & Model Kits |...          28.91   \n",
       "4            Toys & Games | Puzzles | Jigsaw Puzzles          17.49   \n",
       "\n",
       "                                       About Product Interaction type  Age  \\\n",
       "0  Make sure this fits by entering your model num...         purchase   55   \n",
       "1  Make sure this fits by entering your model num...             view   19   \n",
       "2  Make sure this fits by entering your model num...             like   50   \n",
       "3  Make 8 different Planes at one time. | Experim...             view   21   \n",
       "4  Make sure this fits by entering your model num...             like   45   \n",
       "\n",
       "  Gender       Location  \n",
       "0   Male       Kentucky  \n",
       "1   Male          Maine  \n",
       "2   Male  Massachusetts  \n",
       "3   Male   Rhode Island  \n",
       "4   Male         Oregon  "
      ]
     },
     "execution_count": 49,
     "metadata": {},
     "output_type": "execute_result"
    }
   ],
   "source": [
    "df.head()"
   ]
  },
  {
   "cell_type": "code",
   "execution_count": 50,
   "id": "666da840",
   "metadata": {
    "scrolled": false
   },
   "outputs": [
    {
     "data": {
      "text/plain": [
       "Index(['Product Name', 'Category_y', 'Selling Price', 'About Product',\n",
       "       'Interaction type', 'Age', 'Gender', 'Location'],\n",
       "      dtype='object')"
      ]
     },
     "execution_count": 50,
     "metadata": {},
     "output_type": "execute_result"
    }
   ],
   "source": [
    "df.columns"
   ]
  },
  {
   "cell_type": "code",
   "execution_count": null,
   "id": "40f870e0",
   "metadata": {},
   "outputs": [],
   "source": [
    "#import re\n",
    "#def clean_text(text):\n",
    "    # Remove strange characters\n",
    "    #text = re.sub(r'[^a-zA-Z0-9\\s-]', '', text)\n",
    "    # Remove extra spaces and dashes\n",
    "    #text = re.sub(r'\\s+', ' ', text)\n",
    "    #text = re.sub(r'-+', '-', text)\n",
    "    # Remove leading and trailing spaces\n",
    "    #text = text.strip()\n",
    "    #return text\n",
    "\n",
    "#columns_to_clean = ['Product_Description', 'Gender', 'Location', 'Product Name', 'Interaction type', 'Selling Price']\n",
    "#for column in columns_to_clean:\n",
    "    #df.loc[:, column] = df[column].apply(clean_text)\n",
    "\n",
    "# Assuming your DataFrame is named df\n",
    "#df['Selling Price'] = df['Selling Price'].apply(lambda x: float(x.split(' - ')[0]) if '-' in x else float(x))\n"
   ]
  },
  {
   "cell_type": "code",
   "execution_count": 51,
   "id": "66ae1da2",
   "metadata": {
    "scrolled": true
   },
   "outputs": [
    {
     "name": "stderr",
     "output_type": "stream",
     "text": [
      "/tmp/ipykernel_2885/511649769.py:2: SettingWithCopyWarning: \n",
      "A value is trying to be set on a copy of a slice from a DataFrame.\n",
      "Try using .loc[row_indexer,col_indexer] = value instead\n",
      "\n",
      "See the caveats in the documentation: https://pandas.pydata.org/pandas-docs/stable/user_guide/indexing.html#returning-a-view-versus-a-copy\n",
      "  df['rating'] = df['Interaction type'].map(interactions)\n"
     ]
    }
   ],
   "source": [
    "interactions = {'purchase': 5, 'like': 4, 'view': 3}\n",
    "df['rating'] = df['Interaction type'].map(interactions)"
   ]
  },
  {
   "cell_type": "code",
   "execution_count": 52,
   "id": "0c27f3ab",
   "metadata": {},
   "outputs": [
    {
     "ename": "KeyError",
     "evalue": "\"['user id', 'product id'] not in index\"",
     "output_type": "error",
     "traceback": [
      "\u001b[0;31m---------------------------------------------------------------------------\u001b[0m",
      "\u001b[0;31mKeyError\u001b[0m                                  Traceback (most recent call last)",
      "Cell \u001b[0;32mIn [52], line 2\u001b[0m\n\u001b[1;32m      1\u001b[0m reader \u001b[38;5;241m=\u001b[39m Reader(rating_scale\u001b[38;5;241m=\u001b[39m(\u001b[38;5;241m1\u001b[39m, \u001b[38;5;241m5\u001b[39m))\n\u001b[0;32m----> 2\u001b[0m data \u001b[38;5;241m=\u001b[39m Dataset\u001b[38;5;241m.\u001b[39mload_from_df(\u001b[43mdf\u001b[49m\u001b[43m[\u001b[49m\u001b[43m[\u001b[49m\u001b[38;5;124;43m'\u001b[39;49m\u001b[38;5;124;43muser id\u001b[39;49m\u001b[38;5;124;43m'\u001b[39;49m\u001b[43m,\u001b[49m\u001b[43m \u001b[49m\u001b[38;5;124;43m'\u001b[39;49m\u001b[38;5;124;43mproduct id\u001b[39;49m\u001b[38;5;124;43m'\u001b[39;49m\u001b[43m,\u001b[49m\u001b[43m \u001b[49m\u001b[38;5;124;43m'\u001b[39;49m\u001b[38;5;124;43mrating\u001b[39;49m\u001b[38;5;124;43m'\u001b[39;49m\u001b[43m]\u001b[49m\u001b[43m]\u001b[49m, reader)\n",
      "File \u001b[0;32m~/.pyenv/versions/3.10.6/envs/lewagon/lib/python3.10/site-packages/pandas/core/frame.py:3511\u001b[0m, in \u001b[0;36mDataFrame.__getitem__\u001b[0;34m(self, key)\u001b[0m\n\u001b[1;32m   3509\u001b[0m     \u001b[38;5;28;01mif\u001b[39;00m is_iterator(key):\n\u001b[1;32m   3510\u001b[0m         key \u001b[38;5;241m=\u001b[39m \u001b[38;5;28mlist\u001b[39m(key)\n\u001b[0;32m-> 3511\u001b[0m     indexer \u001b[38;5;241m=\u001b[39m \u001b[38;5;28;43mself\u001b[39;49m\u001b[38;5;241;43m.\u001b[39;49m\u001b[43mcolumns\u001b[49m\u001b[38;5;241;43m.\u001b[39;49m\u001b[43m_get_indexer_strict\u001b[49m\u001b[43m(\u001b[49m\u001b[43mkey\u001b[49m\u001b[43m,\u001b[49m\u001b[43m \u001b[49m\u001b[38;5;124;43m\"\u001b[39;49m\u001b[38;5;124;43mcolumns\u001b[39;49m\u001b[38;5;124;43m\"\u001b[39;49m\u001b[43m)\u001b[49m[\u001b[38;5;241m1\u001b[39m]\n\u001b[1;32m   3513\u001b[0m \u001b[38;5;66;03m# take() does not accept boolean indexers\u001b[39;00m\n\u001b[1;32m   3514\u001b[0m \u001b[38;5;28;01mif\u001b[39;00m \u001b[38;5;28mgetattr\u001b[39m(indexer, \u001b[38;5;124m\"\u001b[39m\u001b[38;5;124mdtype\u001b[39m\u001b[38;5;124m\"\u001b[39m, \u001b[38;5;28;01mNone\u001b[39;00m) \u001b[38;5;241m==\u001b[39m \u001b[38;5;28mbool\u001b[39m:\n",
      "File \u001b[0;32m~/.pyenv/versions/3.10.6/envs/lewagon/lib/python3.10/site-packages/pandas/core/indexes/base.py:5796\u001b[0m, in \u001b[0;36mIndex._get_indexer_strict\u001b[0;34m(self, key, axis_name)\u001b[0m\n\u001b[1;32m   5793\u001b[0m \u001b[38;5;28;01melse\u001b[39;00m:\n\u001b[1;32m   5794\u001b[0m     keyarr, indexer, new_indexer \u001b[38;5;241m=\u001b[39m \u001b[38;5;28mself\u001b[39m\u001b[38;5;241m.\u001b[39m_reindex_non_unique(keyarr)\n\u001b[0;32m-> 5796\u001b[0m \u001b[38;5;28;43mself\u001b[39;49m\u001b[38;5;241;43m.\u001b[39;49m\u001b[43m_raise_if_missing\u001b[49m\u001b[43m(\u001b[49m\u001b[43mkeyarr\u001b[49m\u001b[43m,\u001b[49m\u001b[43m \u001b[49m\u001b[43mindexer\u001b[49m\u001b[43m,\u001b[49m\u001b[43m \u001b[49m\u001b[43maxis_name\u001b[49m\u001b[43m)\u001b[49m\n\u001b[1;32m   5798\u001b[0m keyarr \u001b[38;5;241m=\u001b[39m \u001b[38;5;28mself\u001b[39m\u001b[38;5;241m.\u001b[39mtake(indexer)\n\u001b[1;32m   5799\u001b[0m \u001b[38;5;28;01mif\u001b[39;00m \u001b[38;5;28misinstance\u001b[39m(key, Index):\n\u001b[1;32m   5800\u001b[0m     \u001b[38;5;66;03m# GH 42790 - Preserve name from an Index\u001b[39;00m\n",
      "File \u001b[0;32m~/.pyenv/versions/3.10.6/envs/lewagon/lib/python3.10/site-packages/pandas/core/indexes/base.py:5859\u001b[0m, in \u001b[0;36mIndex._raise_if_missing\u001b[0;34m(self, key, indexer, axis_name)\u001b[0m\n\u001b[1;32m   5856\u001b[0m     \u001b[38;5;28;01mraise\u001b[39;00m \u001b[38;5;167;01mKeyError\u001b[39;00m(\u001b[38;5;124mf\u001b[39m\u001b[38;5;124m\"\u001b[39m\u001b[38;5;124mNone of [\u001b[39m\u001b[38;5;132;01m{\u001b[39;00mkey\u001b[38;5;132;01m}\u001b[39;00m\u001b[38;5;124m] are in the [\u001b[39m\u001b[38;5;132;01m{\u001b[39;00maxis_name\u001b[38;5;132;01m}\u001b[39;00m\u001b[38;5;124m]\u001b[39m\u001b[38;5;124m\"\u001b[39m)\n\u001b[1;32m   5858\u001b[0m not_found \u001b[38;5;241m=\u001b[39m \u001b[38;5;28mlist\u001b[39m(ensure_index(key)[missing_mask\u001b[38;5;241m.\u001b[39mnonzero()[\u001b[38;5;241m0\u001b[39m]]\u001b[38;5;241m.\u001b[39munique())\n\u001b[0;32m-> 5859\u001b[0m \u001b[38;5;28;01mraise\u001b[39;00m \u001b[38;5;167;01mKeyError\u001b[39;00m(\u001b[38;5;124mf\u001b[39m\u001b[38;5;124m\"\u001b[39m\u001b[38;5;132;01m{\u001b[39;00mnot_found\u001b[38;5;132;01m}\u001b[39;00m\u001b[38;5;124m not in index\u001b[39m\u001b[38;5;124m\"\u001b[39m)\n",
      "\u001b[0;31mKeyError\u001b[0m: \"['user id', 'product id'] not in index\""
     ]
    }
   ],
   "source": [
    "reader = Reader(rating_scale=(1, 5))\n",
    "data = Dataset.load_from_df(df[['user id', 'product id', 'rating']], reader)"
   ]
  },
  {
   "cell_type": "code",
   "execution_count": null,
   "id": "f5585866",
   "metadata": {},
   "outputs": [],
   "source": [
    "trainset, testset = train_test_split(data, test_size=.25)\n",
    "svd_model = SVD()\n",
    "svd_model.fit(trainset)\n",
    "predictions = svd_model.test(testset)"
   ]
  },
  {
   "cell_type": "code",
   "execution_count": null,
   "id": "c930f004",
   "metadata": {},
   "outputs": [],
   "source": [
    "accuracy.rmse(predictions)"
   ]
  },
  {
   "cell_type": "code",
   "execution_count": null,
   "id": "62e28a51",
   "metadata": {},
   "outputs": [],
   "source": [
    "# svd_model.predict(uid=1, iid=541, verbose=True)"
   ]
  },
  {
   "cell_type": "code",
   "execution_count": null,
   "id": "a00047d4",
   "metadata": {},
   "outputs": [],
   "source": [
    "# product_ids = [\"4c69b61db1fc16e7013b43fc926e502d\", \"2c55cae269aebf53838484b0d7dd931a\", \"f5149cfb8e04d7b30bd7b4eaed6713b8\"]"
   ]
  },
  {
   "cell_type": "code",
   "execution_count": null,
   "id": "dec04151",
   "metadata": {},
   "outputs": [],
   "source": [
    "# sample_df = df[df[\"product id\"].isin(product_ids)]"
   ]
  },
  {
   "cell_type": "code",
   "execution_count": null,
   "id": "a6f463af",
   "metadata": {},
   "outputs": [],
   "source": [
    "# sample_df.head()"
   ]
  },
  {
   "cell_type": "code",
   "execution_count": null,
   "id": "6319b645",
   "metadata": {},
   "outputs": [],
   "source": [
    "# sample_df[sample_df[\"user id\"] ==1 ]"
   ]
  },
  {
   "cell_type": "markdown",
   "id": "68c47208",
   "metadata": {},
   "source": [
    "## Model Tunning"
   ]
  },
  {
   "cell_type": "code",
   "execution_count": null,
   "id": "25a6950e",
   "metadata": {},
   "outputs": [],
   "source": [
    "# param_grid = {'n_epochs': [5, 10, 20],\n",
    "#               'lr_all': [0.002, 0.005, 0.007]}"
   ]
  },
  {
   "cell_type": "code",
   "execution_count": null,
   "id": "41cbfe33",
   "metadata": {},
   "outputs": [],
   "source": [
    "# gs = GridSearchCV(SVD,\n",
    "#                   param_grid,\n",
    "#                   measures=['rmse', 'mae'],\n",
    "#                   cv=3,\n",
    "#                   n_jobs=-1,\n",
    "#                   joblib_verbose=True)"
   ]
  },
  {
   "cell_type": "code",
   "execution_count": null,
   "id": "8b5602cf",
   "metadata": {},
   "outputs": [],
   "source": [
    "# gs.fit(data)"
   ]
  },
  {
   "cell_type": "code",
   "execution_count": null,
   "id": "64ffbec9",
   "metadata": {},
   "outputs": [],
   "source": [
    "# gs.best_score['rmse']"
   ]
  },
  {
   "cell_type": "code",
   "execution_count": null,
   "id": "ed8af8b8",
   "metadata": {},
   "outputs": [],
   "source": [
    "# gs.best_params['rmse']"
   ]
  },
  {
   "cell_type": "markdown",
   "id": "b5f7d933",
   "metadata": {},
   "source": [
    "## Predict"
   ]
  },
  {
   "cell_type": "code",
   "execution_count": null,
   "id": "4de91f41",
   "metadata": {},
   "outputs": [],
   "source": [
    "# svd_model.n_epochs"
   ]
  },
  {
   "cell_type": "code",
   "execution_count": null,
   "id": "0617f898",
   "metadata": {},
   "outputs": [],
   "source": [
    "# svd_model = SVD(**gs.best_params['rmse'])"
   ]
  },
  {
   "cell_type": "code",
   "execution_count": null,
   "id": "4c7126ad",
   "metadata": {},
   "outputs": [],
   "source": [
    "# data = data.build_full_trainset()"
   ]
  },
  {
   "cell_type": "code",
   "execution_count": null,
   "id": "942a6dcd",
   "metadata": {},
   "outputs": [],
   "source": [
    "# svd_model.fit(data)"
   ]
  },
  {
   "cell_type": "code",
   "execution_count": null,
   "id": "fbff524f",
   "metadata": {},
   "outputs": [],
   "source": [
    "# svd_model.predict(uid=1.0, iid=541, verbose=True)"
   ]
  },
  {
   "cell_type": "code",
   "execution_count": null,
   "id": "0c994788",
   "metadata": {},
   "outputs": [],
   "source": [
    "# def suggest(df, user_id, sug):\n",
    "#     didnt_interact = df[\"product id\"][~(df[\"user id\"] == user_id)].drop_duplicates().values.tolist()\n",
    "#     temp_dict = {}\n",
    "\n",
    "#     for i in didnt_interact:\n",
    "#         temp_dict[i] = svd_model.predict(uid=user_id, iid=i)[3]\n",
    "\n",
    "#     suggestions = pd.DataFrame(temp_dict.items(), columns=[\"product id\", 'possible_rate']).sort_values(by=\"possible_rate\", ascending=False).head(sug)\n",
    "#     merged = pd.merge(suggestions, df[[\"product id\", \"Product Name\"]], how=\"inner\", on=\"product id\")\n",
    "\n",
    "#     return merged"
   ]
  },
  {
   "cell_type": "code",
   "execution_count": null,
   "id": "216fef47",
   "metadata": {},
   "outputs": [],
   "source": [
    "# suggest(df,1,15).sort_values(by=\"possible_rate\", ascending=False)"
   ]
  },
  {
   "cell_type": "code",
   "execution_count": null,
   "id": "cad19202",
   "metadata": {},
   "outputs": [],
   "source": [
    "from sklearn.model_selection import GridSearchCV\n",
    "from sklearn.pipeline import Pipeline\n",
    "from sklearn.feature_extraction.text import TfidfVectorizer\n",
    "from sklearn.preprocessing import StandardScaler,OneHotEncoder\n",
    "from sklearn.compose import ColumnTransformer\n",
    "from sklearn.linear_model import LogisticRegression\n",
    "from sklearn.ensemble import RandomForestClassifier, GradientBoostingClassifier\n",
    "from sklearn.svm import SVC\n",
    "from sklearn.neighbors import KNeighborsClassifier\n",
    "from sklearn.neural_network import MLPClassifier\n",
    "from sklearn.model_selection import train_test_split\n",
    "from sklearn.impute import SimpleImputer\n",
    "from scipy.sparse import hstack\n",
    "from sklearn.preprocessing import LabelEncoder"
   ]
  },
  {
   "cell_type": "code",
   "execution_count": null,
   "id": "76300280",
   "metadata": {
    "scrolled": true
   },
   "outputs": [],
   "source": [
    "df.rename(columns={'Product Name': 'Product_Name'}, inplace=True)\n",
    "df.rename(columns={'Selling Price': 'Selling_Price'}, inplace=True)\n",
    "df.rename(columns={'Interaction type': 'Interaction_type'}, inplace=True)\n",
    "df.rename(columns={'About Product': 'About_Product'}, inplace=True)\n"
   ]
  },
  {
   "cell_type": "code",
   "execution_count": null,
   "id": "4cb459aa",
   "metadata": {},
   "outputs": [],
   "source": [
    "df"
   ]
  },
  {
   "cell_type": "code",
   "execution_count": null,
   "id": "2feaa087",
   "metadata": {},
   "outputs": [],
   "source": [
    "\n",
    "from sklearn.impute import SimpleImputer, KNNImputer\n",
    "from sklearn.preprocessing import StandardScaler, OneHotEncoder, LabelEncoder\n",
    "from sklearn.feature_extraction.text import TfidfVectorizer\n",
    "from sklearn.compose import ColumnTransformer\n",
    "from sklearn.pipeline import Pipeline\n",
    "from sklearn.model_selection import train_test_split\n",
    "from scipy.sparse import hstack\n",
    "\n",
    "# Assuming df is your DataFrame\n",
    "\n",
    "# Splitting data into features and target\n",
    "X = df.drop(columns='Interaction_type')\n",
    "y = df['Interaction_type']\n",
    "\n",
    "# Label encode the target variable\n",
    "label_encoder = LabelEncoder()\n",
    "y_encoded = label_encoder.fit_transform(y)\n",
    "\n",
    "# Defining preprocessing for numerical and categorical features\n",
    "numeric_features = ['Age', 'Selling_Price']\n",
    "categorical_features = ['Gender', 'Location']\n",
    "text_feature = 'Product_Name', 'Category_y', 'About_Product'   # Ensure this is consistent with your DataFrame\n",
    "\n",
    "# Preprocessing for numerical features\n",
    "numeric_transformer = Pipeline(steps=[\n",
    "    ('imputer', KNNImputer(n_neighbors=5)),  # Using KNNImputer\n",
    "    ('scaler', StandardScaler())\n",
    "])\n",
    "\n",
    "# Preprocessing for categorical features\n",
    "categorical_transformer = Pipeline(steps=[\n",
    "    ('imputer', SimpleImputer(strategy='most_frequent')),  # Impute missing values with the most frequent value\n",
    "    ('onehot', OneHotEncoder(handle_unknown='ignore'))\n",
    "])\n",
    "\n",
    "# Define the ColumnTransformer with updated transformers\n",
    "preprocessor = ColumnTransformer(\n",
    "    transformers=[\n",
    "        ('num', numeric_transformer, numeric_features),\n",
    "        ('cat', categorical_transformer, categorical_features)\n",
    "    ])\n",
    "\n",
    "# Splitting the dataset into train and test sets\n",
    "X_train, X_test, y_train, y_test = train_test_split(X, y_encoded, test_size=0.3, random_state=42)\n",
    "\n",
    "# TF-IDF Vectorizer for text data\n",
    "tfidf_transformer = TfidfVectorizer()\n",
    "\n",
    "# Preprocess the non-text features\n",
    "X_train_preprocessed = preprocessor.fit_transform(X_train.drop(columns=text_feature))\n",
    "X_test_preprocessed = preprocessor.transform(X_test.drop(columns=text_feature))\n",
    "\n",
    "# Process text feature separately\n",
    "text_data_train_tfidf = tfidf_transformer.fit_transform(X_train[text_feature])\n",
    "text_data_test_tfidf = tfidf_transformer.transform(X_test[text_feature])\n",
    "\n",
    "# Concatenate the TF-IDF vectorized text feature with the other preprocessed features\n",
    "X_train_final = hstack([X_train_preprocessed, text_data_train_tfidf])\n",
    "X_test_final = hstack([X_test_preprocessed, text_data_test_tfidf])\n",
    "\n",
    "\n"
   ]
  },
  {
   "cell_type": "code",
   "execution_count": null,
   "id": "952ad381",
   "metadata": {},
   "outputs": [],
   "source": [
    "m"
   ]
  },
  {
   "cell_type": "code",
   "execution_count": null,
   "id": "e3b23f20",
   "metadata": {},
   "outputs": [],
   "source": [
    "X_train_final.shape"
   ]
  },
  {
   "cell_type": "code",
   "execution_count": null,
   "id": "3d813bc8",
   "metadata": {
    "scrolled": true
   },
   "outputs": [],
   "source": [
    "X_test_final.shape"
   ]
  },
  {
   "cell_type": "code",
   "execution_count": null,
   "id": "bd643945",
   "metadata": {},
   "outputs": [],
   "source": [
    "y_train.shape"
   ]
  },
  {
   "cell_type": "code",
   "execution_count": null,
   "id": "70e2e7a3",
   "metadata": {},
   "outputs": [],
   "source": [
    "y_test.shape"
   ]
  },
  {
   "cell_type": "code",
   "execution_count": null,
   "id": "c098ee8b",
   "metadata": {
    "scrolled": true
   },
   "outputs": [],
   "source": [
    "df"
   ]
  },
  {
   "cell_type": "code",
   "execution_count": null,
   "id": "69021dbb",
   "metadata": {
    "scrolled": true
   },
   "outputs": [],
   "source": [
    "df.drop(['Date', 'Time', 'rating'], axis=1, inplace=True)\n",
    "\n",
    "# Add 'Category_y' inside 'Product_Description' column\n",
    "df['Product_Description'] = df['Product_Description'] + ' ' + df['Category_y']\n",
    "\n",
    "# Rename 'Interaction type' to 'Interaction_type'\n",
    "df.rename(columns={'Interaction type': 'Interaction_type'}, inplace=True)"
   ]
  },
  {
   "cell_type": "code",
   "execution_count": null,
   "id": "0de8c386",
   "metadata": {
    "scrolled": true
   },
   "outputs": [],
   "source": [
    "df.drop(['user id', 'product id', 'Category_y'], axis=1, inplace=True)"
   ]
  },
  {
   "cell_type": "code",
   "execution_count": null,
   "id": "0901c623",
   "metadata": {
    "scrolled": true
   },
   "outputs": [],
   "source": [
    "df.rename(columns={'Product Name': 'Product_Name'}, inplace=True)\n",
    "df.rename(columns={'Selling Price': 'Selling_Price'}, inplace=True)\n"
   ]
  },
  {
   "cell_type": "code",
   "execution_count": null,
   "id": "20169968",
   "metadata": {},
   "outputs": [],
   "source": [
    "df"
   ]
  },
  {
   "cell_type": "code",
   "execution_count": null,
   "id": "14521413",
   "metadata": {},
   "outputs": [],
   "source": [
    "models = [\n",
    "    ('Random Forest', RandomForestClassifier(), {\n",
    "        'clf__n_estimators': [50, 100, 200],\n",
    "        'clf__max_depth': [None, 5, 10]\n",
    "    }),\n",
    "    ('Gradient Boosting', GradientBoostingClassifier(), {\n",
    "        'clf__n_estimators': [50, 100, 200],\n",
    "        'clf__learning_rate': [0.01, 0.1, 0.5]\n",
    "    }),\n",
    "    ('Support Vector Machine', SVC(), {\n",
    "        'clf__C': [0.1, 1, 10],\n",
    "        'clf__kernel': ['linear', 'rbf']\n",
    "    }),\n",
    "    ('K-Nearest Neighbors', KNeighborsClassifier(), {\n",
    "        'clf__n_neighbors': [3, 5, 10],\n",
    "        'clf__weights': ['uniform', 'distance']\n",
    "    })\n",
    "]"
   ]
  },
  {
   "cell_type": "code",
   "execution_count": null,
   "id": "a3074f6f",
   "metadata": {},
   "outputs": [],
   "source": [
    "\n",
    "results = {}\n",
    "for model_name, model, param_grid in models:\n",
    "    print(f\"Performing GridSearchCV for {model_name}...\")\n",
    "    pipe = Pipeline([\n",
    "        ('preprocessor', preprocessor),\n",
    "        ('clf', model)\n",
    "    ])\n",
    "    gs = GridSearchCV(pipe, param_grid, cv=3, scoring='accuracy', n_jobs=-1)\n",
    "    gs.fit(X_train, y_train)\n",
    "    results[model_name] = gs\n",
    "\n",
    "# Display results\n",
    "for model_name, gs_result in results.items():\n",
    "    print(f\"Best {model_name} Parameters: {gs_result.best_params_}\")\n",
    "    print(f\"Best {model_name} Mean Accuracy: {gs_result.best_score_}\")\n"
   ]
  },
  {
   "cell_type": "code",
   "execution_count": null,
   "id": "b7af20ab",
   "metadata": {},
   "outputs": [],
   "source": [
    "import pickle\n",
    "with open('random_forest_model.pkl', 'wb') as f:\n",
    "    pickle.dump(gs.best_estimator_, f)"
   ]
  },
  {
   "cell_type": "code",
   "execution_count": null,
   "id": "a415e9db",
   "metadata": {
    "scrolled": true
   },
   "outputs": [],
   "source": [
    "!pip install fastapi"
   ]
  },
  {
   "cell_type": "code",
   "execution_count": null,
   "id": "ab3a76a1",
   "metadata": {
    "scrolled": true
   },
   "outputs": [],
   "source": [
    "pip install --upgrade fastapi uvicorn"
   ]
  },
  {
   "cell_type": "code",
   "execution_count": null,
   "id": "67beaf57",
   "metadata": {
    "scrolled": true
   },
   "outputs": [],
   "source": [
    "!pip install --upgrade typing-extensions"
   ]
  },
  {
   "cell_type": "code",
   "execution_count": null,
   "id": "b8fdf443",
   "metadata": {},
   "outputs": [],
   "source": []
  },
  {
   "cell_type": "code",
   "execution_count": null,
   "id": "f40fe8c4",
   "metadata": {
    "scrolled": true
   },
   "outputs": [],
   "source": [
    "# !pip install tpot"
   ]
  },
  {
   "cell_type": "code",
   "execution_count": null,
   "id": "468bde4c",
   "metadata": {
    "scrolled": true
   },
   "outputs": [],
   "source": [
    "# !pip install --upgrade scikit-learn"
   ]
  },
  {
   "cell_type": "code",
   "execution_count": null,
   "id": "6c06b160",
   "metadata": {},
   "outputs": [],
   "source": [
    "# !pip install --upgrade tpot"
   ]
  },
  {
   "cell_type": "code",
   "execution_count": null,
   "id": "3c629a84",
   "metadata": {},
   "outputs": [],
   "source": [
    "# from tpot import TPOTClassifier\n",
    "# from sklearn.pipeline import make_pipeline\n",
    "# tpot = TPOTClassifier(generations=5, population_size=20, verbosity=2, config_dict='TPOT sparse')\n",
    "\n",
    "# # Fit TPOTClassifier to your data\n",
    "# tpot.fit(X_train_final, y_train)\n",
    "\n",
    "# # Evaluate the best pipeline found by TPOT\n",
    "# print(tpot.score(X_test_final, y_test))\n",
    "\n",
    "# # Export the best pipeline as a Python script\n",
    "# # tpot.export('tpot_pipeline.py')"
   ]
  },
  {
   "cell_type": "code",
   "execution_count": null,
   "id": "397ef612",
   "metadata": {},
   "outputs": [],
   "source": [
    "# df.tail()"
   ]
  },
  {
   "cell_type": "code",
   "execution_count": null,
   "id": "8e0e705b",
   "metadata": {},
   "outputs": [],
   "source": [
    "from fastapi import FastAPI\n",
    "import pandas as pd\n",
    "import pickle\n",
    "\n",
    "app = FastAPI()\n",
    "\n",
    "# Define a root `/` endpoint\n",
    "@app.get('/')\n",
    "def index():\n",
    "    return {'ok': True}\n",
    "\n",
    "@app.get(\"/predict\")\n",
    "def predict(\n",
    "        Location: object,\n",
    "        Age: int,\n",
    "        Gender: object,\n",
    "        Product_Name: object,\n",
    "        Selling_Price: float,\n",
    "        Interaction_type: object,\n",
    "        Product_Description: object,\n",
    "    ):\n",
    "    \"\"\"\n",
    "    Make a single course prediction.\n",
    "    Assumes `pickup_datetime` is provided as a string by the user in \"%Y-%m-%d %H:%M:%S\" format\n",
    "    Assumes `pickup_datetime` implicitly refers to the \"US/Eastern\" timezone (as any user in New York City would naturally write)\n",
    "    \"\"\"\n",
    "    data_dict = {\n",
    "        'Location': [Location],\n",
    "        'Age': [Age],\n",
    "        'Gender': [Gender],\n",
    "        'Product_Name': [Product_Name],\n",
    "        'Selling_Price': [Selling_Price],\n",
    "        'Interaction_type': [Interaction_type],\n",
    "    }\n",
    "\n",
    "    X_pred = pd.DataFrame(data_dict, index=[0])\n",
    "\n",
    "    with open('models/preprocessor.pkl', 'rb') as f:\n",
    "        preprocessor = pickle.load(f)\n",
    "\n",
    "    preprocessed_data = pd.DataFrame(preprocessor.transform(X_pred))\n",
    "\n",
    "    with open('models/harp_model.pkl', 'rb') as f:\n",
    "        model = pickle.load(f)\n",
    "\n",
    "    # Make prediction using the loaded model\n",
    "    prediction = model.predict(preprocessed_data)\n",
    "\n",
    "    # Return the prediction result\n",
    "    return {'result': prediction[0]}\n"
   ]
  },
  {
   "cell_type": "code",
   "execution_count": null,
   "id": "45a6fa15",
   "metadata": {},
   "outputs": [],
   "source": []
  }
 ],
 "metadata": {
  "kernelspec": {
   "display_name": "Python 3 (ipykernel)",
   "language": "python",
   "name": "python3"
  },
  "language_info": {
   "codemirror_mode": {
    "name": "ipython",
    "version": 3
   },
   "file_extension": ".py",
   "mimetype": "text/x-python",
   "name": "python",
   "nbconvert_exporter": "python",
   "pygments_lexer": "ipython3",
   "version": "3.10.6"
  },
  "toc": {
   "base_numbering": 1,
   "nav_menu": {},
   "number_sections": true,
   "sideBar": true,
   "skip_h1_title": false,
   "title_cell": "Table of Contents",
   "title_sidebar": "Contents",
   "toc_cell": false,
   "toc_position": {},
   "toc_section_display": true,
   "toc_window_display": false
  }
 },
 "nbformat": 4,
 "nbformat_minor": 5
}
