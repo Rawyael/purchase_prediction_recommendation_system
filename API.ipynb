{
 "cells": [
  {
   "cell_type": "code",
   "execution_count": 2,
   "id": "84a46c04",
   "metadata": {},
   "outputs": [],
   "source": [
    "from fastapi import FastAPI\n",
    "import pandas as pd\n",
    "import pickle\n",
    "\n",
    "app = FastAPI()\n",
    "\n",
    "# Define a root `/` endpoint\n",
    "@app.get('/')\n",
    "def index():\n",
    "    return {'ok': True}\n",
    "\n",
    "@app.get(\"/predict\")\n",
    "def predict(\n",
    "        Location: object,\n",
    "        Age: int,\n",
    "        Gender: object,\n",
    "        Product_Name: object,\n",
    "        Selling_Price: float,\n",
    "        Interaction_type: object,\n",
    "        Product_Description: object,\n",
    "    ):\n",
    "    \"\"\"\n",
    "    Make a single course prediction.\n",
    "    Assumes `pickup_datetime` is provided as a string by the user in \"%Y-%m-%d %H:%M:%S\" format\n",
    "    Assumes `pickup_datetime` implicitly refers to the \"US/Eastern\" timezone (as any user in New York City would naturally write)\n",
    "    \"\"\"\n",
    "    data_dict = {\n",
    "        'Location': [Location],\n",
    "        'Age': [Age],\n",
    "        'Gender': [Gender],\n",
    "        'Product_Name': [Product_Name],\n",
    "        'Selling_Price': [Selling_Price],\n",
    "        'Interaction_type': [Interaction_type],\n",
    "    }\n",
    "\n",
    "    X_pred = pd.DataFrame(data_dict, index=[0])\n",
    "\n",
    "    with open('models/preprocessor.pkl', 'rb') as f:\n",
    "        preprocessor = pickle.load(f)\n",
    "\n",
    "    preprocessed_data = pd.DataFrame(preprocessor.transform(X_pred))\n",
    "\n",
    "    with open('models/harp_model.pkl', 'rb') as f:\n",
    "        model = pickle.load(f)\n",
    "\n",
    "    # Make prediction using the loaded model\n",
    "    prediction = model.predict(preprocessed_data)\n",
    "\n",
    "    # Return the prediction result\n",
    "    return {'result': prediction[0]}\n"
   ]
  },
  {
   "cell_type": "code",
   "execution_count": null,
   "id": "2e4f0cef",
   "metadata": {},
   "outputs": [],
   "source": []
  }
 ],
 "metadata": {
  "kernelspec": {
   "display_name": "Python 3 (ipykernel)",
   "language": "python",
   "name": "python3"
  },
  "language_info": {
   "codemirror_mode": {
    "name": "ipython",
    "version": 3
   },
   "file_extension": ".py",
   "mimetype": "text/x-python",
   "name": "python",
   "nbconvert_exporter": "python",
   "pygments_lexer": "ipython3",
   "version": "3.10.6"
  },
  "toc": {
   "base_numbering": 1,
   "nav_menu": {},
   "number_sections": true,
   "sideBar": true,
   "skip_h1_title": false,
   "title_cell": "Table of Contents",
   "title_sidebar": "Contents",
   "toc_cell": false,
   "toc_position": {},
   "toc_section_display": true,
   "toc_window_display": false
  }
 },
 "nbformat": 4,
 "nbformat_minor": 5
}
